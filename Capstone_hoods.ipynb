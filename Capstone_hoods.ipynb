{
  "nbformat": 4,
  "nbformat_minor": 0,
  "metadata": {
    "colab": {
      "name": "Final Capstone.ipynb",
      "provenance": [],
      "collapsed_sections": []
    },
    "kernelspec": {
      "name": "python3",
      "display_name": "Python 3"
    }
  },
  "cells": [
    {
      "cell_type": "markdown",
      "metadata": {
        "id": "_1LPxziz9RNT",
        "colab_type": "text"
      },
      "source": [
        "# Analayzing Consumer data using dataset"
      ]
    },
    {
      "cell_type": "markdown",
      "metadata": {
        "id": "cqN9NedOzZUD",
        "colab_type": "text"
      },
      "source": [
        "## importing necessary packages\n"
      ]
    },
    {
      "cell_type": "code",
      "metadata": {
        "id": "iTHUEFxhv1mf",
        "colab_type": "code",
        "colab": {}
      },
      "source": [
        "import pandas as pd\n",
        "import numpy as np\n",
        "from datetime import datetime,date,time"
      ],
      "execution_count": 23,
      "outputs": []
    },
    {
      "cell_type": "code",
      "metadata": {
        "id": "OmG54AmDzhv_",
        "colab_type": "code",
        "colab": {}
      },
      "source": [
        "new_york = pd.read_csv('/content/dataset_TSMC2014_NYC.csv')\n",
        "tokyo = pd.read_csv('/content/dataset_TSMC2014_TKY.csv')"
      ],
      "execution_count": 7,
      "outputs": []
    },
    {
      "cell_type": "code",
      "metadata": {
        "id": "MxLkWqWgzsYY",
        "colab_type": "code",
        "colab": {
          "base_uri": "https://localhost:8080/",
          "height": 363
        },
        "outputId": "ff77032b-d575-428f-bf86-cba6a2ccb69a"
      },
      "source": [
        "new_york.head()"
      ],
      "execution_count": 8,
      "outputs": [
        {
          "output_type": "execute_result",
          "data": {
            "text/html": [
              "<div>\n",
              "<style scoped>\n",
              "    .dataframe tbody tr th:only-of-type {\n",
              "        vertical-align: middle;\n",
              "    }\n",
              "\n",
              "    .dataframe tbody tr th {\n",
              "        vertical-align: top;\n",
              "    }\n",
              "\n",
              "    .dataframe thead th {\n",
              "        text-align: right;\n",
              "    }\n",
              "</style>\n",
              "<table border=\"1\" class=\"dataframe\">\n",
              "  <thead>\n",
              "    <tr style=\"text-align: right;\">\n",
              "      <th></th>\n",
              "      <th>userId</th>\n",
              "      <th>venueId</th>\n",
              "      <th>venueCategoryId</th>\n",
              "      <th>venueCategory</th>\n",
              "      <th>latitude</th>\n",
              "      <th>longitude</th>\n",
              "      <th>timezoneOffset</th>\n",
              "      <th>utcTimestamp</th>\n",
              "    </tr>\n",
              "  </thead>\n",
              "  <tbody>\n",
              "    <tr>\n",
              "      <th>0</th>\n",
              "      <td>470</td>\n",
              "      <td>49bbd6c0f964a520f4531fe3</td>\n",
              "      <td>4bf58dd8d48988d127951735</td>\n",
              "      <td>Arts &amp; Crafts Store</td>\n",
              "      <td>40.719810</td>\n",
              "      <td>-74.002581</td>\n",
              "      <td>-240</td>\n",
              "      <td>Tue Apr 03 18:00:09 +0000 2012</td>\n",
              "    </tr>\n",
              "    <tr>\n",
              "      <th>1</th>\n",
              "      <td>979</td>\n",
              "      <td>4a43c0aef964a520c6a61fe3</td>\n",
              "      <td>4bf58dd8d48988d1df941735</td>\n",
              "      <td>Bridge</td>\n",
              "      <td>40.606800</td>\n",
              "      <td>-74.044170</td>\n",
              "      <td>-240</td>\n",
              "      <td>Tue Apr 03 18:00:25 +0000 2012</td>\n",
              "    </tr>\n",
              "    <tr>\n",
              "      <th>2</th>\n",
              "      <td>69</td>\n",
              "      <td>4c5cc7b485a1e21e00d35711</td>\n",
              "      <td>4bf58dd8d48988d103941735</td>\n",
              "      <td>Home (private)</td>\n",
              "      <td>40.716162</td>\n",
              "      <td>-73.883070</td>\n",
              "      <td>-240</td>\n",
              "      <td>Tue Apr 03 18:02:24 +0000 2012</td>\n",
              "    </tr>\n",
              "    <tr>\n",
              "      <th>3</th>\n",
              "      <td>395</td>\n",
              "      <td>4bc7086715a7ef3bef9878da</td>\n",
              "      <td>4bf58dd8d48988d104941735</td>\n",
              "      <td>Medical Center</td>\n",
              "      <td>40.745164</td>\n",
              "      <td>-73.982519</td>\n",
              "      <td>-240</td>\n",
              "      <td>Tue Apr 03 18:02:41 +0000 2012</td>\n",
              "    </tr>\n",
              "    <tr>\n",
              "      <th>4</th>\n",
              "      <td>87</td>\n",
              "      <td>4cf2c5321d18a143951b5cec</td>\n",
              "      <td>4bf58dd8d48988d1cb941735</td>\n",
              "      <td>Food Truck</td>\n",
              "      <td>40.740104</td>\n",
              "      <td>-73.989658</td>\n",
              "      <td>-240</td>\n",
              "      <td>Tue Apr 03 18:03:00 +0000 2012</td>\n",
              "    </tr>\n",
              "  </tbody>\n",
              "</table>\n",
              "</div>"
            ],
            "text/plain": [
              "   userId  ...                    utcTimestamp\n",
              "0     470  ...  Tue Apr 03 18:00:09 +0000 2012\n",
              "1     979  ...  Tue Apr 03 18:00:25 +0000 2012\n",
              "2      69  ...  Tue Apr 03 18:02:24 +0000 2012\n",
              "3     395  ...  Tue Apr 03 18:02:41 +0000 2012\n",
              "4      87  ...  Tue Apr 03 18:03:00 +0000 2012\n",
              "\n",
              "[5 rows x 8 columns]"
            ]
          },
          "metadata": {
            "tags": []
          },
          "execution_count": 8
        }
      ]
    },
    {
      "cell_type": "code",
      "metadata": {
        "id": "VNbf3zy4zt1c",
        "colab_type": "code",
        "colab": {
          "base_uri": "https://localhost:8080/",
          "height": 34
        },
        "outputId": "c6c2dafc-37a2-4081-e42a-3c2948481407"
      },
      "source": [
        "type(new_york['utcTimestamp'][0])"
      ],
      "execution_count": 10,
      "outputs": [
        {
          "output_type": "execute_result",
          "data": {
            "text/plain": [
              "str"
            ]
          },
          "metadata": {
            "tags": []
          },
          "execution_count": 10
        }
      ]
    },
    {
      "cell_type": "code",
      "metadata": {
        "id": "_hFxHqD80B86",
        "colab_type": "code",
        "colab": {}
      },
      "source": [
        "def timestampToDateTime(timestamp_list):\n",
        "  final_timestamp =[]\n",
        "  for timestamp in timestamp_list:\n",
        "    split_timestamp = timestamp.split(' ')\n",
        "    d = {'day_of_week':split_timestamp[0],\n",
        "         'day':(split_timestamp[2]+' '+split_timestamp[1]+' '+split_timestamp[5]),\n",
        "         'time':split_timestamp[3]}\n",
        "    final_timestamp.append(d)\n",
        "  return final_timestamp\n",
        "new_coloumns = timestampToDateTime(new_york['utcTimestamp'])"
      ],
      "execution_count": 15,
      "outputs": []
    },
    {
      "cell_type": "code",
      "metadata": {
        "id": "sjN2qT_90YCF",
        "colab_type": "code",
        "colab": {}
      },
      "source": [
        "datetimes = pd.DataFrame(new_coloumns)"
      ],
      "execution_count": 16,
      "outputs": []
    },
    {
      "cell_type": "code",
      "metadata": {
        "id": "0-wm8JCcCGcp",
        "colab_type": "code",
        "colab": {
          "base_uri": "https://localhost:8080/",
          "height": 195
        },
        "outputId": "a5216f9c-dc82-4c01-f237-f439a2185c5a"
      },
      "source": [
        "datetimes.head"
      ],
      "execution_count": 17,
      "outputs": [
        {
          "output_type": "execute_result",
          "data": {
            "text/html": [
              "<div>\n",
              "<style scoped>\n",
              "    .dataframe tbody tr th:only-of-type {\n",
              "        vertical-align: middle;\n",
              "    }\n",
              "\n",
              "    .dataframe tbody tr th {\n",
              "        vertical-align: top;\n",
              "    }\n",
              "\n",
              "    .dataframe thead th {\n",
              "        text-align: right;\n",
              "    }\n",
              "</style>\n",
              "<table border=\"1\" class=\"dataframe\">\n",
              "  <thead>\n",
              "    <tr style=\"text-align: right;\">\n",
              "      <th></th>\n",
              "      <th>day_of_week</th>\n",
              "      <th>day</th>\n",
              "      <th>time</th>\n",
              "    </tr>\n",
              "  </thead>\n",
              "  <tbody>\n",
              "    <tr>\n",
              "      <th>0</th>\n",
              "      <td>Tue</td>\n",
              "      <td>03 Apr 2012</td>\n",
              "      <td>18:00:09</td>\n",
              "    </tr>\n",
              "    <tr>\n",
              "      <th>1</th>\n",
              "      <td>Tue</td>\n",
              "      <td>03 Apr 2012</td>\n",
              "      <td>18:00:25</td>\n",
              "    </tr>\n",
              "    <tr>\n",
              "      <th>2</th>\n",
              "      <td>Tue</td>\n",
              "      <td>03 Apr 2012</td>\n",
              "      <td>18:02:24</td>\n",
              "    </tr>\n",
              "    <tr>\n",
              "      <th>3</th>\n",
              "      <td>Tue</td>\n",
              "      <td>03 Apr 2012</td>\n",
              "      <td>18:02:41</td>\n",
              "    </tr>\n",
              "    <tr>\n",
              "      <th>4</th>\n",
              "      <td>Tue</td>\n",
              "      <td>03 Apr 2012</td>\n",
              "      <td>18:03:00</td>\n",
              "    </tr>\n",
              "  </tbody>\n",
              "</table>\n",
              "</div>"
            ],
            "text/plain": [
              "  day_of_week          day      time\n",
              "0         Tue  03 Apr 2012  18:00:09\n",
              "1         Tue  03 Apr 2012  18:00:25\n",
              "2         Tue  03 Apr 2012  18:02:24\n",
              "3         Tue  03 Apr 2012  18:02:41\n",
              "4         Tue  03 Apr 2012  18:03:00"
            ]
          },
          "metadata": {
            "tags": []
          },
          "execution_count": 17
        }
      ]
    },
    {
      "cell_type": "code",
      "metadata": {
        "id": "g-nGBmHLCIB_",
        "colab_type": "code",
        "colab": {
          "base_uri": "https://localhost:8080/",
          "height": 34
        },
        "outputId": "74147976-750c-49d0-cac0-60ac4b3b3cc9"
      },
      "source": [
        "\n",
        "year = datetimes['day'][0].split(' ')[2]\n",
        "month = datetimes['day'][0].split(' ')[1]\n",
        "day = datetimes['day'][0].split(' ')[0]\n",
        "datee = day+'-'+month\n",
        "print((year,month,day))"
      ],
      "execution_count": 26,
      "outputs": [
        {
          "output_type": "stream",
          "text": [
            "('2012', 'Apr', '03')\n"
          ],
          "name": "stdout"
        }
      ]
    },
    {
      "cell_type": "code",
      "metadata": {
        "id": "-XnQYuOvKEmx",
        "colab_type": "code",
        "colab": {}
      },
      "source": [
        "date_time_obj = datetime.datetime.strptime(date_time_str, '%Y-%m-%d %H:%M:%S.%f')"
      ],
      "execution_count": null,
      "outputs": []
    }
  ]
}