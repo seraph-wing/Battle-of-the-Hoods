{
  "nbformat": 4,
  "nbformat_minor": 0,
  "metadata": {
    "colab": {
      "name": "Capstone_Canada_Neighborhoods.ipynb",
      "provenance": [],
      "collapsed_sections": [],
      "toc_visible": true
    },
    "kernelspec": {
      "name": "python3",
      "display_name": "Python 3"
    }
  },
  "cells": [
    {
      "cell_type": "markdown",
      "metadata": {
        "id": "Ci-0xTODs2kR",
        "colab_type": "text"
      },
      "source": [
        "# This python notebook is for the canada neighborhood clustering assignment"
      ]
    },
    {
      "cell_type": "markdown",
      "metadata": {
        "id": "NPYU-rTCtE2w",
        "colab_type": "text"
      },
      "source": [
        "## Importing necessary libraries"
      ]
    },
    {
      "cell_type": "code",
      "metadata": {
        "id": "jRBigqUOq_-Y",
        "colab_type": "code",
        "colab": {}
      },
      "source": [
        "import pandas as pd\n",
        "import numpy as np\n",
        "from bs4 import BeautifulSoup\n",
        "import requests\n",
        "import folium\n",
        "from sklearn.cluster import KMeans\n",
        "import matplotlib.cm as cm\n",
        "import matplotlib.colors as colors"
      ],
      "execution_count": 25,
      "outputs": []
    },
    {
      "cell_type": "markdown",
      "metadata": {
        "id": "YR60LMRJtIoe",
        "colab_type": "text"
      },
      "source": [
        "## Extracting the data from the wikipedia page"
      ]
    },
    {
      "cell_type": "code",
      "metadata": {
        "id": "3vRewoOzsZjg",
        "colab_type": "code",
        "colab": {}
      },
      "source": [
        "URL = \"https://en.wikipedia.org/wiki/List_of_postal_codes_of_Canada:_M\"\n",
        "res = requests.get(URL).text\n",
        "soup = BeautifulSoup(res,\"lxml\")\n",
        "#print(soup)\n",
        "table = soup.findAll('table')\n",
        "#print(table[0])"
      ],
      "execution_count": 3,
      "outputs": []
    },
    {
      "cell_type": "code",
      "metadata": {
        "id": "BexhfA_tzGw9",
        "colab_type": "code",
        "colab": {}
      },
      "source": [
        "data = pd.read_html(str(table[0]))[0]"
      ],
      "execution_count": 4,
      "outputs": []
    },
    {
      "cell_type": "code",
      "metadata": {
        "id": "jcD9pnwl0yHW",
        "colab_type": "code",
        "colab": {
          "base_uri": "https://localhost:8080/",
          "height": 195
        },
        "outputId": "2889ec0b-9b6b-4ddf-e265-16af3231058b"
      },
      "source": [
        "data.head()"
      ],
      "execution_count": 5,
      "outputs": [
        {
          "output_type": "execute_result",
          "data": {
            "text/html": [
              "<div>\n",
              "<style scoped>\n",
              "    .dataframe tbody tr th:only-of-type {\n",
              "        vertical-align: middle;\n",
              "    }\n",
              "\n",
              "    .dataframe tbody tr th {\n",
              "        vertical-align: top;\n",
              "    }\n",
              "\n",
              "    .dataframe thead th {\n",
              "        text-align: right;\n",
              "    }\n",
              "</style>\n",
              "<table border=\"1\" class=\"dataframe\">\n",
              "  <thead>\n",
              "    <tr style=\"text-align: right;\">\n",
              "      <th></th>\n",
              "      <th>Postal Code</th>\n",
              "      <th>Borough</th>\n",
              "      <th>Neighbourhood</th>\n",
              "    </tr>\n",
              "  </thead>\n",
              "  <tbody>\n",
              "    <tr>\n",
              "      <th>0</th>\n",
              "      <td>M1A</td>\n",
              "      <td>Not assigned</td>\n",
              "      <td>Not assigned</td>\n",
              "    </tr>\n",
              "    <tr>\n",
              "      <th>1</th>\n",
              "      <td>M2A</td>\n",
              "      <td>Not assigned</td>\n",
              "      <td>Not assigned</td>\n",
              "    </tr>\n",
              "    <tr>\n",
              "      <th>2</th>\n",
              "      <td>M3A</td>\n",
              "      <td>North York</td>\n",
              "      <td>Parkwoods</td>\n",
              "    </tr>\n",
              "    <tr>\n",
              "      <th>3</th>\n",
              "      <td>M4A</td>\n",
              "      <td>North York</td>\n",
              "      <td>Victoria Village</td>\n",
              "    </tr>\n",
              "    <tr>\n",
              "      <th>4</th>\n",
              "      <td>M5A</td>\n",
              "      <td>Downtown Toronto</td>\n",
              "      <td>Regent Park, Harbourfront</td>\n",
              "    </tr>\n",
              "  </tbody>\n",
              "</table>\n",
              "</div>"
            ],
            "text/plain": [
              "  Postal Code           Borough              Neighbourhood\n",
              "0         M1A      Not assigned               Not assigned\n",
              "1         M2A      Not assigned               Not assigned\n",
              "2         M3A        North York                  Parkwoods\n",
              "3         M4A        North York           Victoria Village\n",
              "4         M5A  Downtown Toronto  Regent Park, Harbourfront"
            ]
          },
          "metadata": {
            "tags": []
          },
          "execution_count": 5
        }
      ]
    },
    {
      "cell_type": "code",
      "metadata": {
        "id": "LF81b1DdTgQT",
        "colab_type": "code",
        "colab": {}
      },
      "source": [
        "filter = data['Borough'] != 'Not assigned'\n",
        "new_data = data.where(filter)\n",
        "new_data.head()\n",
        "new_data.dropna(axis = 0, inplace=True)\n",
        "df2 = new_data.groupby(['Postal Code','Borough'], sort=False).agg(', '.join)\n",
        "df2.reset_index(inplace=True)"
      ],
      "execution_count": 6,
      "outputs": []
    },
    {
      "cell_type": "code",
      "metadata": {
        "id": "2UuAwcdiVunP",
        "colab_type": "code",
        "colab": {
          "base_uri": "https://localhost:8080/",
          "height": 195
        },
        "outputId": "f905a47b-77c1-4893-e1dc-c0157af51054"
      },
      "source": [
        "df2.head()\n",
        "df2['Neighbourhood'] = np.where(df2['Neighbourhood'] == 'Not assigned',df2['Borough'], df2['Neighbourhood'])\n",
        "\n",
        "df2.head()"
      ],
      "execution_count": 7,
      "outputs": [
        {
          "output_type": "execute_result",
          "data": {
            "text/html": [
              "<div>\n",
              "<style scoped>\n",
              "    .dataframe tbody tr th:only-of-type {\n",
              "        vertical-align: middle;\n",
              "    }\n",
              "\n",
              "    .dataframe tbody tr th {\n",
              "        vertical-align: top;\n",
              "    }\n",
              "\n",
              "    .dataframe thead th {\n",
              "        text-align: right;\n",
              "    }\n",
              "</style>\n",
              "<table border=\"1\" class=\"dataframe\">\n",
              "  <thead>\n",
              "    <tr style=\"text-align: right;\">\n",
              "      <th></th>\n",
              "      <th>Postal Code</th>\n",
              "      <th>Borough</th>\n",
              "      <th>Neighbourhood</th>\n",
              "    </tr>\n",
              "  </thead>\n",
              "  <tbody>\n",
              "    <tr>\n",
              "      <th>0</th>\n",
              "      <td>M3A</td>\n",
              "      <td>North York</td>\n",
              "      <td>Parkwoods</td>\n",
              "    </tr>\n",
              "    <tr>\n",
              "      <th>1</th>\n",
              "      <td>M4A</td>\n",
              "      <td>North York</td>\n",
              "      <td>Victoria Village</td>\n",
              "    </tr>\n",
              "    <tr>\n",
              "      <th>2</th>\n",
              "      <td>M5A</td>\n",
              "      <td>Downtown Toronto</td>\n",
              "      <td>Regent Park, Harbourfront</td>\n",
              "    </tr>\n",
              "    <tr>\n",
              "      <th>3</th>\n",
              "      <td>M6A</td>\n",
              "      <td>North York</td>\n",
              "      <td>Lawrence Manor, Lawrence Heights</td>\n",
              "    </tr>\n",
              "    <tr>\n",
              "      <th>4</th>\n",
              "      <td>M7A</td>\n",
              "      <td>Downtown Toronto</td>\n",
              "      <td>Queen's Park, Ontario Provincial Government</td>\n",
              "    </tr>\n",
              "  </tbody>\n",
              "</table>\n",
              "</div>"
            ],
            "text/plain": [
              "  Postal Code           Borough                                Neighbourhood\n",
              "0         M3A        North York                                    Parkwoods\n",
              "1         M4A        North York                             Victoria Village\n",
              "2         M5A  Downtown Toronto                    Regent Park, Harbourfront\n",
              "3         M6A        North York             Lawrence Manor, Lawrence Heights\n",
              "4         M7A  Downtown Toronto  Queen's Park, Ontario Provincial Government"
            ]
          },
          "metadata": {
            "tags": []
          },
          "execution_count": 7
        }
      ]
    },
    {
      "cell_type": "code",
      "metadata": {
        "id": "wBPw1krP4jP8",
        "colab_type": "code",
        "colab": {
          "base_uri": "https://localhost:8080/",
          "height": 34
        },
        "outputId": "2337ead0-7194-4ddc-d637-f53531d6de4e"
      },
      "source": [
        "df2.shape"
      ],
      "execution_count": 8,
      "outputs": [
        {
          "output_type": "execute_result",
          "data": {
            "text/plain": [
              "(103, 3)"
            ]
          },
          "metadata": {
            "tags": []
          },
          "execution_count": 8
        }
      ]
    },
    {
      "cell_type": "markdown",
      "metadata": {
        "id": "mMXnUumP3075",
        "colab_type": "text"
      },
      "source": [
        "## Getting Latitude and longitude"
      ]
    },
    {
      "cell_type": "code",
      "metadata": {
        "id": "W0Y8qaYDWeHT",
        "colab_type": "code",
        "colab": {
          "base_uri": "https://localhost:8080/",
          "height": 195
        },
        "outputId": "9b38d00f-d63c-407f-f9ec-621a0af087a3"
      },
      "source": [
        "pd_concat = pd.read_csv('/content/Geospatial_Coordinates.csv')\n",
        "pd_concat.head()"
      ],
      "execution_count": 10,
      "outputs": [
        {
          "output_type": "execute_result",
          "data": {
            "text/html": [
              "<div>\n",
              "<style scoped>\n",
              "    .dataframe tbody tr th:only-of-type {\n",
              "        vertical-align: middle;\n",
              "    }\n",
              "\n",
              "    .dataframe tbody tr th {\n",
              "        vertical-align: top;\n",
              "    }\n",
              "\n",
              "    .dataframe thead th {\n",
              "        text-align: right;\n",
              "    }\n",
              "</style>\n",
              "<table border=\"1\" class=\"dataframe\">\n",
              "  <thead>\n",
              "    <tr style=\"text-align: right;\">\n",
              "      <th></th>\n",
              "      <th>Postal Code</th>\n",
              "      <th>Latitude</th>\n",
              "      <th>Longitude</th>\n",
              "    </tr>\n",
              "  </thead>\n",
              "  <tbody>\n",
              "    <tr>\n",
              "      <th>0</th>\n",
              "      <td>M1B</td>\n",
              "      <td>43.806686</td>\n",
              "      <td>-79.194353</td>\n",
              "    </tr>\n",
              "    <tr>\n",
              "      <th>1</th>\n",
              "      <td>M1C</td>\n",
              "      <td>43.784535</td>\n",
              "      <td>-79.160497</td>\n",
              "    </tr>\n",
              "    <tr>\n",
              "      <th>2</th>\n",
              "      <td>M1E</td>\n",
              "      <td>43.763573</td>\n",
              "      <td>-79.188711</td>\n",
              "    </tr>\n",
              "    <tr>\n",
              "      <th>3</th>\n",
              "      <td>M1G</td>\n",
              "      <td>43.770992</td>\n",
              "      <td>-79.216917</td>\n",
              "    </tr>\n",
              "    <tr>\n",
              "      <th>4</th>\n",
              "      <td>M1H</td>\n",
              "      <td>43.773136</td>\n",
              "      <td>-79.239476</td>\n",
              "    </tr>\n",
              "  </tbody>\n",
              "</table>\n",
              "</div>"
            ],
            "text/plain": [
              "  Postal Code   Latitude  Longitude\n",
              "0         M1B  43.806686 -79.194353\n",
              "1         M1C  43.784535 -79.160497\n",
              "2         M1E  43.763573 -79.188711\n",
              "3         M1G  43.770992 -79.216917\n",
              "4         M1H  43.773136 -79.239476"
            ]
          },
          "metadata": {
            "tags": []
          },
          "execution_count": 10
        }
      ]
    },
    {
      "cell_type": "code",
      "metadata": {
        "id": "2sYsDFQR1j9Q",
        "colab_type": "code",
        "colab": {
          "base_uri": "https://localhost:8080/",
          "height": 402
        },
        "outputId": "359b6e18-d3eb-42f3-80ae-dba5a8cf1176"
      },
      "source": [
        "final_df = pd.merge(df2,pd_concat,on='Postal Code')\n",
        "final_df"
      ],
      "execution_count": 11,
      "outputs": [
        {
          "output_type": "execute_result",
          "data": {
            "text/html": [
              "<div>\n",
              "<style scoped>\n",
              "    .dataframe tbody tr th:only-of-type {\n",
              "        vertical-align: middle;\n",
              "    }\n",
              "\n",
              "    .dataframe tbody tr th {\n",
              "        vertical-align: top;\n",
              "    }\n",
              "\n",
              "    .dataframe thead th {\n",
              "        text-align: right;\n",
              "    }\n",
              "</style>\n",
              "<table border=\"1\" class=\"dataframe\">\n",
              "  <thead>\n",
              "    <tr style=\"text-align: right;\">\n",
              "      <th></th>\n",
              "      <th>Postal Code</th>\n",
              "      <th>Borough</th>\n",
              "      <th>Neighbourhood</th>\n",
              "      <th>Latitude</th>\n",
              "      <th>Longitude</th>\n",
              "    </tr>\n",
              "  </thead>\n",
              "  <tbody>\n",
              "    <tr>\n",
              "      <th>0</th>\n",
              "      <td>M3A</td>\n",
              "      <td>North York</td>\n",
              "      <td>Parkwoods</td>\n",
              "      <td>43.753259</td>\n",
              "      <td>-79.329656</td>\n",
              "    </tr>\n",
              "    <tr>\n",
              "      <th>1</th>\n",
              "      <td>M4A</td>\n",
              "      <td>North York</td>\n",
              "      <td>Victoria Village</td>\n",
              "      <td>43.725882</td>\n",
              "      <td>-79.315572</td>\n",
              "    </tr>\n",
              "    <tr>\n",
              "      <th>2</th>\n",
              "      <td>M5A</td>\n",
              "      <td>Downtown Toronto</td>\n",
              "      <td>Regent Park, Harbourfront</td>\n",
              "      <td>43.654260</td>\n",
              "      <td>-79.360636</td>\n",
              "    </tr>\n",
              "    <tr>\n",
              "      <th>3</th>\n",
              "      <td>M6A</td>\n",
              "      <td>North York</td>\n",
              "      <td>Lawrence Manor, Lawrence Heights</td>\n",
              "      <td>43.718518</td>\n",
              "      <td>-79.464763</td>\n",
              "    </tr>\n",
              "    <tr>\n",
              "      <th>4</th>\n",
              "      <td>M7A</td>\n",
              "      <td>Downtown Toronto</td>\n",
              "      <td>Queen's Park, Ontario Provincial Government</td>\n",
              "      <td>43.662301</td>\n",
              "      <td>-79.389494</td>\n",
              "    </tr>\n",
              "    <tr>\n",
              "      <th>...</th>\n",
              "      <td>...</td>\n",
              "      <td>...</td>\n",
              "      <td>...</td>\n",
              "      <td>...</td>\n",
              "      <td>...</td>\n",
              "    </tr>\n",
              "    <tr>\n",
              "      <th>98</th>\n",
              "      <td>M8X</td>\n",
              "      <td>Etobicoke</td>\n",
              "      <td>The Kingsway, Montgomery Road, Old Mill North</td>\n",
              "      <td>43.653654</td>\n",
              "      <td>-79.506944</td>\n",
              "    </tr>\n",
              "    <tr>\n",
              "      <th>99</th>\n",
              "      <td>M4Y</td>\n",
              "      <td>Downtown Toronto</td>\n",
              "      <td>Church and Wellesley</td>\n",
              "      <td>43.665860</td>\n",
              "      <td>-79.383160</td>\n",
              "    </tr>\n",
              "    <tr>\n",
              "      <th>100</th>\n",
              "      <td>M7Y</td>\n",
              "      <td>East Toronto</td>\n",
              "      <td>Business reply mail Processing Centre, South C...</td>\n",
              "      <td>43.662744</td>\n",
              "      <td>-79.321558</td>\n",
              "    </tr>\n",
              "    <tr>\n",
              "      <th>101</th>\n",
              "      <td>M8Y</td>\n",
              "      <td>Etobicoke</td>\n",
              "      <td>Old Mill South, King's Mill Park, Sunnylea, Hu...</td>\n",
              "      <td>43.636258</td>\n",
              "      <td>-79.498509</td>\n",
              "    </tr>\n",
              "    <tr>\n",
              "      <th>102</th>\n",
              "      <td>M8Z</td>\n",
              "      <td>Etobicoke</td>\n",
              "      <td>Mimico NW, The Queensway West, South of Bloor,...</td>\n",
              "      <td>43.628841</td>\n",
              "      <td>-79.520999</td>\n",
              "    </tr>\n",
              "  </tbody>\n",
              "</table>\n",
              "<p>103 rows × 5 columns</p>\n",
              "</div>"
            ],
            "text/plain": [
              "    Postal Code           Borough  ...   Latitude  Longitude\n",
              "0           M3A        North York  ...  43.753259 -79.329656\n",
              "1           M4A        North York  ...  43.725882 -79.315572\n",
              "2           M5A  Downtown Toronto  ...  43.654260 -79.360636\n",
              "3           M6A        North York  ...  43.718518 -79.464763\n",
              "4           M7A  Downtown Toronto  ...  43.662301 -79.389494\n",
              "..          ...               ...  ...        ...        ...\n",
              "98          M8X         Etobicoke  ...  43.653654 -79.506944\n",
              "99          M4Y  Downtown Toronto  ...  43.665860 -79.383160\n",
              "100         M7Y      East Toronto  ...  43.662744 -79.321558\n",
              "101         M8Y         Etobicoke  ...  43.636258 -79.498509\n",
              "102         M8Z         Etobicoke  ...  43.628841 -79.520999\n",
              "\n",
              "[103 rows x 5 columns]"
            ]
          },
          "metadata": {
            "tags": []
          },
          "execution_count": 11
        }
      ]
    },
    {
      "cell_type": "code",
      "metadata": {
        "id": "1NuVs2Hf2Ly-",
        "colab_type": "code",
        "colab": {
          "base_uri": "https://localhost:8080/",
          "height": 34
        },
        "outputId": "d9d188e7-7ca8-4d93-bbad-24f9edf1615f"
      },
      "source": [
        "final_df.shape"
      ],
      "execution_count": 12,
      "outputs": [
        {
          "output_type": "execute_result",
          "data": {
            "text/plain": [
              "(103, 5)"
            ]
          },
          "metadata": {
            "tags": []
          },
          "execution_count": 12
        }
      ]
    },
    {
      "cell_type": "markdown",
      "metadata": {
        "id": "vngylSpi4uRb",
        "colab_type": "text"
      },
      "source": [
        "## starting clustering"
      ]
    },
    {
      "cell_type": "markdown",
      "metadata": {
        "id": "2M2h7kYHvuOZ",
        "colab_type": "text"
      },
      "source": [
        "## could not get fousquare api developer credentials as foursquare developer site not working for a month now for me\n",
        "\n",
        "![alt text](/content/Capture.JPG)"
      ]
    },
    {
      "cell_type": "code",
      "metadata": {
        "id": "gSWei5rT3n9u",
        "colab_type": "code",
        "colab": {
          "base_uri": "https://localhost:8080/",
          "height": 1000
        },
        "outputId": "77b72bc4-917f-49c2-a48b-0057e2e4e8ba"
      },
      "source": [
        "\n",
        "data = final_df[final_df['Borough'].str.contains('Toronto',regex=False)]\n",
        "data"
      ],
      "execution_count": 13,
      "outputs": [
        {
          "output_type": "execute_result",
          "data": {
            "text/html": [
              "<div>\n",
              "<style scoped>\n",
              "    .dataframe tbody tr th:only-of-type {\n",
              "        vertical-align: middle;\n",
              "    }\n",
              "\n",
              "    .dataframe tbody tr th {\n",
              "        vertical-align: top;\n",
              "    }\n",
              "\n",
              "    .dataframe thead th {\n",
              "        text-align: right;\n",
              "    }\n",
              "</style>\n",
              "<table border=\"1\" class=\"dataframe\">\n",
              "  <thead>\n",
              "    <tr style=\"text-align: right;\">\n",
              "      <th></th>\n",
              "      <th>Postal Code</th>\n",
              "      <th>Borough</th>\n",
              "      <th>Neighbourhood</th>\n",
              "      <th>Latitude</th>\n",
              "      <th>Longitude</th>\n",
              "    </tr>\n",
              "  </thead>\n",
              "  <tbody>\n",
              "    <tr>\n",
              "      <th>2</th>\n",
              "      <td>M5A</td>\n",
              "      <td>Downtown Toronto</td>\n",
              "      <td>Regent Park, Harbourfront</td>\n",
              "      <td>43.654260</td>\n",
              "      <td>-79.360636</td>\n",
              "    </tr>\n",
              "    <tr>\n",
              "      <th>4</th>\n",
              "      <td>M7A</td>\n",
              "      <td>Downtown Toronto</td>\n",
              "      <td>Queen's Park, Ontario Provincial Government</td>\n",
              "      <td>43.662301</td>\n",
              "      <td>-79.389494</td>\n",
              "    </tr>\n",
              "    <tr>\n",
              "      <th>9</th>\n",
              "      <td>M5B</td>\n",
              "      <td>Downtown Toronto</td>\n",
              "      <td>Garden District, Ryerson</td>\n",
              "      <td>43.657162</td>\n",
              "      <td>-79.378937</td>\n",
              "    </tr>\n",
              "    <tr>\n",
              "      <th>15</th>\n",
              "      <td>M5C</td>\n",
              "      <td>Downtown Toronto</td>\n",
              "      <td>St. James Town</td>\n",
              "      <td>43.651494</td>\n",
              "      <td>-79.375418</td>\n",
              "    </tr>\n",
              "    <tr>\n",
              "      <th>19</th>\n",
              "      <td>M4E</td>\n",
              "      <td>East Toronto</td>\n",
              "      <td>The Beaches</td>\n",
              "      <td>43.676357</td>\n",
              "      <td>-79.293031</td>\n",
              "    </tr>\n",
              "    <tr>\n",
              "      <th>20</th>\n",
              "      <td>M5E</td>\n",
              "      <td>Downtown Toronto</td>\n",
              "      <td>Berczy Park</td>\n",
              "      <td>43.644771</td>\n",
              "      <td>-79.373306</td>\n",
              "    </tr>\n",
              "    <tr>\n",
              "      <th>24</th>\n",
              "      <td>M5G</td>\n",
              "      <td>Downtown Toronto</td>\n",
              "      <td>Central Bay Street</td>\n",
              "      <td>43.657952</td>\n",
              "      <td>-79.387383</td>\n",
              "    </tr>\n",
              "    <tr>\n",
              "      <th>25</th>\n",
              "      <td>M6G</td>\n",
              "      <td>Downtown Toronto</td>\n",
              "      <td>Christie</td>\n",
              "      <td>43.669542</td>\n",
              "      <td>-79.422564</td>\n",
              "    </tr>\n",
              "    <tr>\n",
              "      <th>30</th>\n",
              "      <td>M5H</td>\n",
              "      <td>Downtown Toronto</td>\n",
              "      <td>Richmond, Adelaide, King</td>\n",
              "      <td>43.650571</td>\n",
              "      <td>-79.384568</td>\n",
              "    </tr>\n",
              "    <tr>\n",
              "      <th>31</th>\n",
              "      <td>M6H</td>\n",
              "      <td>West Toronto</td>\n",
              "      <td>Dufferin, Dovercourt Village</td>\n",
              "      <td>43.669005</td>\n",
              "      <td>-79.442259</td>\n",
              "    </tr>\n",
              "    <tr>\n",
              "      <th>36</th>\n",
              "      <td>M5J</td>\n",
              "      <td>Downtown Toronto</td>\n",
              "      <td>Harbourfront East, Union Station, Toronto Islands</td>\n",
              "      <td>43.640816</td>\n",
              "      <td>-79.381752</td>\n",
              "    </tr>\n",
              "    <tr>\n",
              "      <th>37</th>\n",
              "      <td>M6J</td>\n",
              "      <td>West Toronto</td>\n",
              "      <td>Little Portugal, Trinity</td>\n",
              "      <td>43.647927</td>\n",
              "      <td>-79.419750</td>\n",
              "    </tr>\n",
              "    <tr>\n",
              "      <th>41</th>\n",
              "      <td>M4K</td>\n",
              "      <td>East Toronto</td>\n",
              "      <td>The Danforth West, Riverdale</td>\n",
              "      <td>43.679557</td>\n",
              "      <td>-79.352188</td>\n",
              "    </tr>\n",
              "    <tr>\n",
              "      <th>42</th>\n",
              "      <td>M5K</td>\n",
              "      <td>Downtown Toronto</td>\n",
              "      <td>Toronto Dominion Centre, Design Exchange</td>\n",
              "      <td>43.647177</td>\n",
              "      <td>-79.381576</td>\n",
              "    </tr>\n",
              "    <tr>\n",
              "      <th>43</th>\n",
              "      <td>M6K</td>\n",
              "      <td>West Toronto</td>\n",
              "      <td>Brockton, Parkdale Village, Exhibition Place</td>\n",
              "      <td>43.636847</td>\n",
              "      <td>-79.428191</td>\n",
              "    </tr>\n",
              "    <tr>\n",
              "      <th>47</th>\n",
              "      <td>M4L</td>\n",
              "      <td>East Toronto</td>\n",
              "      <td>India Bazaar, The Beaches West</td>\n",
              "      <td>43.668999</td>\n",
              "      <td>-79.315572</td>\n",
              "    </tr>\n",
              "    <tr>\n",
              "      <th>48</th>\n",
              "      <td>M5L</td>\n",
              "      <td>Downtown Toronto</td>\n",
              "      <td>Commerce Court, Victoria Hotel</td>\n",
              "      <td>43.648198</td>\n",
              "      <td>-79.379817</td>\n",
              "    </tr>\n",
              "    <tr>\n",
              "      <th>54</th>\n",
              "      <td>M4M</td>\n",
              "      <td>East Toronto</td>\n",
              "      <td>Studio District</td>\n",
              "      <td>43.659526</td>\n",
              "      <td>-79.340923</td>\n",
              "    </tr>\n",
              "    <tr>\n",
              "      <th>61</th>\n",
              "      <td>M4N</td>\n",
              "      <td>Central Toronto</td>\n",
              "      <td>Lawrence Park</td>\n",
              "      <td>43.728020</td>\n",
              "      <td>-79.388790</td>\n",
              "    </tr>\n",
              "    <tr>\n",
              "      <th>62</th>\n",
              "      <td>M5N</td>\n",
              "      <td>Central Toronto</td>\n",
              "      <td>Roselawn</td>\n",
              "      <td>43.711695</td>\n",
              "      <td>-79.416936</td>\n",
              "    </tr>\n",
              "    <tr>\n",
              "      <th>67</th>\n",
              "      <td>M4P</td>\n",
              "      <td>Central Toronto</td>\n",
              "      <td>Davisville North</td>\n",
              "      <td>43.712751</td>\n",
              "      <td>-79.390197</td>\n",
              "    </tr>\n",
              "    <tr>\n",
              "      <th>68</th>\n",
              "      <td>M5P</td>\n",
              "      <td>Central Toronto</td>\n",
              "      <td>Forest Hill North &amp; West, Forest Hill Road Park</td>\n",
              "      <td>43.696948</td>\n",
              "      <td>-79.411307</td>\n",
              "    </tr>\n",
              "    <tr>\n",
              "      <th>69</th>\n",
              "      <td>M6P</td>\n",
              "      <td>West Toronto</td>\n",
              "      <td>High Park, The Junction South</td>\n",
              "      <td>43.661608</td>\n",
              "      <td>-79.464763</td>\n",
              "    </tr>\n",
              "    <tr>\n",
              "      <th>73</th>\n",
              "      <td>M4R</td>\n",
              "      <td>Central Toronto</td>\n",
              "      <td>North Toronto West, Lawrence Park</td>\n",
              "      <td>43.715383</td>\n",
              "      <td>-79.405678</td>\n",
              "    </tr>\n",
              "    <tr>\n",
              "      <th>74</th>\n",
              "      <td>M5R</td>\n",
              "      <td>Central Toronto</td>\n",
              "      <td>The Annex, North Midtown, Yorkville</td>\n",
              "      <td>43.672710</td>\n",
              "      <td>-79.405678</td>\n",
              "    </tr>\n",
              "    <tr>\n",
              "      <th>75</th>\n",
              "      <td>M6R</td>\n",
              "      <td>West Toronto</td>\n",
              "      <td>Parkdale, Roncesvalles</td>\n",
              "      <td>43.648960</td>\n",
              "      <td>-79.456325</td>\n",
              "    </tr>\n",
              "    <tr>\n",
              "      <th>79</th>\n",
              "      <td>M4S</td>\n",
              "      <td>Central Toronto</td>\n",
              "      <td>Davisville</td>\n",
              "      <td>43.704324</td>\n",
              "      <td>-79.388790</td>\n",
              "    </tr>\n",
              "    <tr>\n",
              "      <th>80</th>\n",
              "      <td>M5S</td>\n",
              "      <td>Downtown Toronto</td>\n",
              "      <td>University of Toronto, Harbord</td>\n",
              "      <td>43.662696</td>\n",
              "      <td>-79.400049</td>\n",
              "    </tr>\n",
              "    <tr>\n",
              "      <th>81</th>\n",
              "      <td>M6S</td>\n",
              "      <td>West Toronto</td>\n",
              "      <td>Runnymede, Swansea</td>\n",
              "      <td>43.651571</td>\n",
              "      <td>-79.484450</td>\n",
              "    </tr>\n",
              "    <tr>\n",
              "      <th>83</th>\n",
              "      <td>M4T</td>\n",
              "      <td>Central Toronto</td>\n",
              "      <td>Moore Park, Summerhill East</td>\n",
              "      <td>43.689574</td>\n",
              "      <td>-79.383160</td>\n",
              "    </tr>\n",
              "    <tr>\n",
              "      <th>84</th>\n",
              "      <td>M5T</td>\n",
              "      <td>Downtown Toronto</td>\n",
              "      <td>Kensington Market, Chinatown, Grange Park</td>\n",
              "      <td>43.653206</td>\n",
              "      <td>-79.400049</td>\n",
              "    </tr>\n",
              "    <tr>\n",
              "      <th>86</th>\n",
              "      <td>M4V</td>\n",
              "      <td>Central Toronto</td>\n",
              "      <td>Summerhill West, Rathnelly, South Hill, Forest...</td>\n",
              "      <td>43.686412</td>\n",
              "      <td>-79.400049</td>\n",
              "    </tr>\n",
              "    <tr>\n",
              "      <th>87</th>\n",
              "      <td>M5V</td>\n",
              "      <td>Downtown Toronto</td>\n",
              "      <td>CN Tower, King and Spadina, Railway Lands, Har...</td>\n",
              "      <td>43.628947</td>\n",
              "      <td>-79.394420</td>\n",
              "    </tr>\n",
              "    <tr>\n",
              "      <th>91</th>\n",
              "      <td>M4W</td>\n",
              "      <td>Downtown Toronto</td>\n",
              "      <td>Rosedale</td>\n",
              "      <td>43.679563</td>\n",
              "      <td>-79.377529</td>\n",
              "    </tr>\n",
              "    <tr>\n",
              "      <th>92</th>\n",
              "      <td>M5W</td>\n",
              "      <td>Downtown Toronto</td>\n",
              "      <td>Stn A PO Boxes</td>\n",
              "      <td>43.646435</td>\n",
              "      <td>-79.374846</td>\n",
              "    </tr>\n",
              "    <tr>\n",
              "      <th>96</th>\n",
              "      <td>M4X</td>\n",
              "      <td>Downtown Toronto</td>\n",
              "      <td>St. James Town, Cabbagetown</td>\n",
              "      <td>43.667967</td>\n",
              "      <td>-79.367675</td>\n",
              "    </tr>\n",
              "    <tr>\n",
              "      <th>97</th>\n",
              "      <td>M5X</td>\n",
              "      <td>Downtown Toronto</td>\n",
              "      <td>First Canadian Place, Underground city</td>\n",
              "      <td>43.648429</td>\n",
              "      <td>-79.382280</td>\n",
              "    </tr>\n",
              "    <tr>\n",
              "      <th>99</th>\n",
              "      <td>M4Y</td>\n",
              "      <td>Downtown Toronto</td>\n",
              "      <td>Church and Wellesley</td>\n",
              "      <td>43.665860</td>\n",
              "      <td>-79.383160</td>\n",
              "    </tr>\n",
              "    <tr>\n",
              "      <th>100</th>\n",
              "      <td>M7Y</td>\n",
              "      <td>East Toronto</td>\n",
              "      <td>Business reply mail Processing Centre, South C...</td>\n",
              "      <td>43.662744</td>\n",
              "      <td>-79.321558</td>\n",
              "    </tr>\n",
              "  </tbody>\n",
              "</table>\n",
              "</div>"
            ],
            "text/plain": [
              "    Postal Code           Borough  ...   Latitude  Longitude\n",
              "2           M5A  Downtown Toronto  ...  43.654260 -79.360636\n",
              "4           M7A  Downtown Toronto  ...  43.662301 -79.389494\n",
              "9           M5B  Downtown Toronto  ...  43.657162 -79.378937\n",
              "15          M5C  Downtown Toronto  ...  43.651494 -79.375418\n",
              "19          M4E      East Toronto  ...  43.676357 -79.293031\n",
              "20          M5E  Downtown Toronto  ...  43.644771 -79.373306\n",
              "24          M5G  Downtown Toronto  ...  43.657952 -79.387383\n",
              "25          M6G  Downtown Toronto  ...  43.669542 -79.422564\n",
              "30          M5H  Downtown Toronto  ...  43.650571 -79.384568\n",
              "31          M6H      West Toronto  ...  43.669005 -79.442259\n",
              "36          M5J  Downtown Toronto  ...  43.640816 -79.381752\n",
              "37          M6J      West Toronto  ...  43.647927 -79.419750\n",
              "41          M4K      East Toronto  ...  43.679557 -79.352188\n",
              "42          M5K  Downtown Toronto  ...  43.647177 -79.381576\n",
              "43          M6K      West Toronto  ...  43.636847 -79.428191\n",
              "47          M4L      East Toronto  ...  43.668999 -79.315572\n",
              "48          M5L  Downtown Toronto  ...  43.648198 -79.379817\n",
              "54          M4M      East Toronto  ...  43.659526 -79.340923\n",
              "61          M4N   Central Toronto  ...  43.728020 -79.388790\n",
              "62          M5N   Central Toronto  ...  43.711695 -79.416936\n",
              "67          M4P   Central Toronto  ...  43.712751 -79.390197\n",
              "68          M5P   Central Toronto  ...  43.696948 -79.411307\n",
              "69          M6P      West Toronto  ...  43.661608 -79.464763\n",
              "73          M4R   Central Toronto  ...  43.715383 -79.405678\n",
              "74          M5R   Central Toronto  ...  43.672710 -79.405678\n",
              "75          M6R      West Toronto  ...  43.648960 -79.456325\n",
              "79          M4S   Central Toronto  ...  43.704324 -79.388790\n",
              "80          M5S  Downtown Toronto  ...  43.662696 -79.400049\n",
              "81          M6S      West Toronto  ...  43.651571 -79.484450\n",
              "83          M4T   Central Toronto  ...  43.689574 -79.383160\n",
              "84          M5T  Downtown Toronto  ...  43.653206 -79.400049\n",
              "86          M4V   Central Toronto  ...  43.686412 -79.400049\n",
              "87          M5V  Downtown Toronto  ...  43.628947 -79.394420\n",
              "91          M4W  Downtown Toronto  ...  43.679563 -79.377529\n",
              "92          M5W  Downtown Toronto  ...  43.646435 -79.374846\n",
              "96          M4X  Downtown Toronto  ...  43.667967 -79.367675\n",
              "97          M5X  Downtown Toronto  ...  43.648429 -79.382280\n",
              "99          M4Y  Downtown Toronto  ...  43.665860 -79.383160\n",
              "100         M7Y      East Toronto  ...  43.662744 -79.321558\n",
              "\n",
              "[39 rows x 5 columns]"
            ]
          },
          "metadata": {
            "tags": []
          },
          "execution_count": 13
        }
      ]
    },
    {
      "cell_type": "code",
      "metadata": {
        "id": "flnmF-KJimM3",
        "colab_type": "code",
        "colab": {
          "base_uri": "https://localhost:8080/",
          "height": 685
        },
        "outputId": "3e535509-0d20-4acf-8acf-e5af7e29b062"
      },
      "source": [
        "map_toronto = folium.Map(location=[43.651070,-79.347015],zoom_start=12)\n",
        "\n",
        "for lat,lng,borough,neighbourhood in zip(data['Latitude'],data['Longitude'],data['Borough'],data['Neighbourhood']):\n",
        "    label = '{}, {}'.format(neighbourhood, borough)\n",
        "    label = folium.Popup(label, parse_html=True)\n",
        "    folium.CircleMarker(\n",
        "    [lat,lng],\n",
        "    radius=5,\n",
        "    popup=label,\n",
        "    color='blue',\n",
        "    fill=True,\n",
        "    fill_color='#3186cc',\n",
        "    fill_opacity=0.7,\n",
        "    parse_html=False).add_to(map_toronto)\n",
        "map_toronto"
      ],
      "execution_count": 18,
      "outputs": [
        {
          "output_type": "execute_result",
          "data": {
            "text/html": [
              "<div style=\"width:100%;\"><div style=\"position:relative;width:100%;height:0;padding-bottom:60%;\"><span style=\"color:#565656\">Make this Notebook Trusted to load map: File -> Trust Notebook</span><iframe src=\"about:blank\" style=\"position:absolute;width:100%;height:100%;left:0;top:0;border:none !important;\" data-html=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 onload=\"this.contentDocument.open();this.contentDocument.write(atob(this.getAttribute('data-html')));this.contentDocument.close();\" allowfullscreen webkitallowfullscreen mozallowfullscreen></iframe></div></div>"
            ],
            "text/plain": [
              "<folium.folium.Map at 0x7f4d4d24cb00>"
            ]
          },
          "metadata": {
            "tags": []
          },
          "execution_count": 18
        }
      ]
    },
    {
      "cell_type": "code",
      "metadata": {
        "id": "R8-slUSKngfO",
        "colab_type": "code",
        "colab": {
          "base_uri": "https://localhost:8080/",
          "height": 370
        },
        "outputId": "1a122229-ae70-4a9f-a97e-d2378cf81036"
      },
      "source": [
        "k = 6\n",
        "toronto_clustering = data.drop(['Postal Code','Borough','Neighbourhood'],1)\n",
        "kmeans = KMeans(n_clusters = k,random_state=0).fit(toronto_clustering)\n",
        "print(kmeans.labels_)\n",
        "data.insert(0, 'Cluster Labels', kmeans.labels_)"
      ],
      "execution_count": 27,
      "outputs": [
        {
          "output_type": "stream",
          "text": [
            "[0 0 0 0 5 0 0 4 0 3 0 4 2 0 4 5 0 2 1 1 1 1 3 1 4 3 1 4 3 1 4 1 0 0 0 0 0\n",
            " 0 5]\n"
          ],
          "name": "stdout"
        },
        {
          "output_type": "error",
          "ename": "ValueError",
          "evalue": "ignored",
          "traceback": [
            "\u001b[0;31m---------------------------------------------------------------------------\u001b[0m",
            "\u001b[0;31mValueError\u001b[0m                                Traceback (most recent call last)",
            "\u001b[0;32m<ipython-input-27-ad9c00d46475>\u001b[0m in \u001b[0;36m<module>\u001b[0;34m()\u001b[0m\n\u001b[1;32m      3\u001b[0m \u001b[0mkmeans\u001b[0m \u001b[0;34m=\u001b[0m \u001b[0mKMeans\u001b[0m\u001b[0;34m(\u001b[0m\u001b[0mn_clusters\u001b[0m \u001b[0;34m=\u001b[0m \u001b[0mk\u001b[0m\u001b[0;34m,\u001b[0m\u001b[0mrandom_state\u001b[0m\u001b[0;34m=\u001b[0m\u001b[0;36m0\u001b[0m\u001b[0;34m)\u001b[0m\u001b[0;34m.\u001b[0m\u001b[0mfit\u001b[0m\u001b[0;34m(\u001b[0m\u001b[0mtoronto_clustering\u001b[0m\u001b[0;34m)\u001b[0m\u001b[0;34m\u001b[0m\u001b[0;34m\u001b[0m\u001b[0m\n\u001b[1;32m      4\u001b[0m \u001b[0mprint\u001b[0m\u001b[0;34m(\u001b[0m\u001b[0mkmeans\u001b[0m\u001b[0;34m.\u001b[0m\u001b[0mlabels_\u001b[0m\u001b[0;34m)\u001b[0m\u001b[0;34m\u001b[0m\u001b[0;34m\u001b[0m\u001b[0m\n\u001b[0;32m----> 5\u001b[0;31m \u001b[0mdata\u001b[0m\u001b[0;34m.\u001b[0m\u001b[0minsert\u001b[0m\u001b[0;34m(\u001b[0m\u001b[0;36m0\u001b[0m\u001b[0;34m,\u001b[0m \u001b[0;34m'Cluster Labels'\u001b[0m\u001b[0;34m,\u001b[0m \u001b[0mkmeans\u001b[0m\u001b[0;34m.\u001b[0m\u001b[0mlabels_\u001b[0m\u001b[0;34m)\u001b[0m\u001b[0;34m\u001b[0m\u001b[0;34m\u001b[0m\u001b[0m\n\u001b[0m",
            "\u001b[0;32m/usr/local/lib/python3.6/dist-packages/pandas/core/frame.py\u001b[0m in \u001b[0;36minsert\u001b[0;34m(self, loc, column, value, allow_duplicates)\u001b[0m\n\u001b[1;32m   3494\u001b[0m         \u001b[0mself\u001b[0m\u001b[0;34m.\u001b[0m\u001b[0m_ensure_valid_index\u001b[0m\u001b[0;34m(\u001b[0m\u001b[0mvalue\u001b[0m\u001b[0;34m)\u001b[0m\u001b[0;34m\u001b[0m\u001b[0;34m\u001b[0m\u001b[0m\n\u001b[1;32m   3495\u001b[0m         \u001b[0mvalue\u001b[0m \u001b[0;34m=\u001b[0m \u001b[0mself\u001b[0m\u001b[0;34m.\u001b[0m\u001b[0m_sanitize_column\u001b[0m\u001b[0;34m(\u001b[0m\u001b[0mcolumn\u001b[0m\u001b[0;34m,\u001b[0m \u001b[0mvalue\u001b[0m\u001b[0;34m,\u001b[0m \u001b[0mbroadcast\u001b[0m\u001b[0;34m=\u001b[0m\u001b[0;32mFalse\u001b[0m\u001b[0;34m)\u001b[0m\u001b[0;34m\u001b[0m\u001b[0;34m\u001b[0m\u001b[0m\n\u001b[0;32m-> 3496\u001b[0;31m         \u001b[0mself\u001b[0m\u001b[0;34m.\u001b[0m\u001b[0m_data\u001b[0m\u001b[0;34m.\u001b[0m\u001b[0minsert\u001b[0m\u001b[0;34m(\u001b[0m\u001b[0mloc\u001b[0m\u001b[0;34m,\u001b[0m \u001b[0mcolumn\u001b[0m\u001b[0;34m,\u001b[0m \u001b[0mvalue\u001b[0m\u001b[0;34m,\u001b[0m \u001b[0mallow_duplicates\u001b[0m\u001b[0;34m=\u001b[0m\u001b[0mallow_duplicates\u001b[0m\u001b[0;34m)\u001b[0m\u001b[0;34m\u001b[0m\u001b[0;34m\u001b[0m\u001b[0m\n\u001b[0m\u001b[1;32m   3497\u001b[0m \u001b[0;34m\u001b[0m\u001b[0m\n\u001b[1;32m   3498\u001b[0m     \u001b[0;32mdef\u001b[0m \u001b[0massign\u001b[0m\u001b[0;34m(\u001b[0m\u001b[0mself\u001b[0m\u001b[0;34m,\u001b[0m \u001b[0;34m**\u001b[0m\u001b[0mkwargs\u001b[0m\u001b[0;34m)\u001b[0m \u001b[0;34m->\u001b[0m \u001b[0;34m\"DataFrame\"\u001b[0m\u001b[0;34m:\u001b[0m\u001b[0;34m\u001b[0m\u001b[0;34m\u001b[0m\u001b[0m\n",
            "\u001b[0;32m/usr/local/lib/python3.6/dist-packages/pandas/core/internals/managers.py\u001b[0m in \u001b[0;36minsert\u001b[0;34m(self, loc, item, value, allow_duplicates)\u001b[0m\n\u001b[1;32m   1171\u001b[0m         \u001b[0;32mif\u001b[0m \u001b[0;32mnot\u001b[0m \u001b[0mallow_duplicates\u001b[0m \u001b[0;32mand\u001b[0m \u001b[0mitem\u001b[0m \u001b[0;32min\u001b[0m \u001b[0mself\u001b[0m\u001b[0;34m.\u001b[0m\u001b[0mitems\u001b[0m\u001b[0;34m:\u001b[0m\u001b[0;34m\u001b[0m\u001b[0;34m\u001b[0m\u001b[0m\n\u001b[1;32m   1172\u001b[0m             \u001b[0;31m# Should this be a different kind of error??\u001b[0m\u001b[0;34m\u001b[0m\u001b[0;34m\u001b[0m\u001b[0;34m\u001b[0m\u001b[0m\n\u001b[0;32m-> 1173\u001b[0;31m             \u001b[0;32mraise\u001b[0m \u001b[0mValueError\u001b[0m\u001b[0;34m(\u001b[0m\u001b[0;34mf\"cannot insert {item}, already exists\"\u001b[0m\u001b[0;34m)\u001b[0m\u001b[0;34m\u001b[0m\u001b[0;34m\u001b[0m\u001b[0m\n\u001b[0m\u001b[1;32m   1174\u001b[0m \u001b[0;34m\u001b[0m\u001b[0m\n\u001b[1;32m   1175\u001b[0m         \u001b[0;32mif\u001b[0m \u001b[0;32mnot\u001b[0m \u001b[0misinstance\u001b[0m\u001b[0;34m(\u001b[0m\u001b[0mloc\u001b[0m\u001b[0;34m,\u001b[0m \u001b[0mint\u001b[0m\u001b[0;34m)\u001b[0m\u001b[0;34m:\u001b[0m\u001b[0;34m\u001b[0m\u001b[0;34m\u001b[0m\u001b[0m\n",
            "\u001b[0;31mValueError\u001b[0m: cannot insert Cluster Labels, already exists"
          ]
        }
      ]
    },
    {
      "cell_type": "code",
      "metadata": {
        "id": "76pYIZOOoEYc",
        "colab_type": "code",
        "colab": {
          "base_uri": "https://localhost:8080/",
          "height": 685
        },
        "outputId": "19f09837-e627-4d4c-bc8c-eee04642ad64"
      },
      "source": [
        "map_clusters = folium.Map(location=[43.651070,-79.347015],zoom_start=10)\n",
        "\n",
        "# set color scheme for the clusters\n",
        "x = np.arange(k)\n",
        "ys = [i + x + (i*x)**2 for i in range(k)]\n",
        "colors_array = cm.rainbow(np.linspace(0, 1, len(ys)))\n",
        "rainbow = [colors.rgb2hex(i) for i in colors_array]\n",
        "\n",
        "# add markers to the map\n",
        "markers_colors = []\n",
        "for lat, lon, neighbourhood, cluster in zip(data['Latitude'], data['Longitude'], data['Neighbourhood'], data['Cluster Labels']):\n",
        "    label = folium.Popup(' Cluster ' + str(cluster), parse_html=True)\n",
        "    folium.CircleMarker(\n",
        "        [lat, lon],\n",
        "        radius=5,\n",
        "        popup=label,\n",
        "        color=rainbow[cluster-1],\n",
        "        fill=True,\n",
        "        fill_color=rainbow[cluster-1],\n",
        "        fill_opacity=0.7).add_to(map_clusters)\n",
        "       \n",
        "map_clusters"
      ],
      "execution_count": 26,
      "outputs": [
        {
          "output_type": "execute_result",
          "data": {
            "text/html": [
              "<div style=\"width:100%;\"><div style=\"position:relative;width:100%;height:0;padding-bottom:60%;\"><span style=\"color:#565656\">Make this Notebook Trusted to load map: File -> Trust Notebook</span><iframe src=\"about:blank\" style=\"position:absolute;width:100%;height:100%;left:0;top:0;border:none !important;\" data-html=PCFET0NUWVBFIGh0bWw+CjxoZWFkPiAgICAKICAgIDxtZXRhIGh0dHAtZXF1aXY9ImNvbnRlbnQtdHlwZSIgY29udGVudD0idGV4dC9odG1sOyBjaGFyc2V0PVVURi04IiAvPgogICAgPHNjcmlwdD5MX1BSRUZFUl9DQU5WQVM9ZmFsc2U7IExfTk9fVE9VQ0g9ZmFsc2U7IExfRElTQUJMRV8zRD1mYWxzZTs8L3NjcmlwdD4KICAgIDxzY3JpcHQgc3JjPSJodHRwczovL2Nkbi5qc2RlbGl2ci5uZXQvbnBtL2xlYWZsZXRAMS40LjAvZGlzdC9sZWFmbGV0LmpzIj48L3NjcmlwdD4KICAgIDxzY3JpcHQgc3JjPSJodHRwczovL2NvZGUuanF1ZXJ5LmNvbS9qcXVlcnktMS4xMi40Lm1pbi5qcyI+PC9zY3JpcHQ+CiAgICA8c2NyaXB0IHNyYz0iaHR0cHM6Ly9tYXhjZG4uYm9vdHN0cmFwY2RuLmNvbS9ib290c3RyYXAvMy4yLjAvanMvYm9vdHN0cmFwLm1pbi5qcyI+PC9zY3JpcHQ+CiAgICA8c2NyaXB0IHNyYz0iaHR0cHM6Ly9jZG5qcy5jbG91ZGZsYXJlLmNvbS9hamF4L2xpYnMvTGVhZmxldC5hd2Vzb21lLW1hcmtlcnMvMi4wLjIvbGVhZmxldC5hd2Vzb21lLW1hcmtlcnMuanMiPjwvc2NyaXB0PgogICAgPGxpbmsgcmVsPSJzdHlsZXNoZWV0IiBocmVmPSJodHRwczovL2Nkbi5qc2RlbGl2ci5uZXQvbnBtL2xlYWZsZXRAMS40LjAvZGlzdC9sZWFmbGV0LmNzcyIvPgogICAgPGxpbmsgcmVsPSJzdHlsZXNoZWV0IiBocmVmPSJodHRwczovL21heGNkbi5ib290c3RyYXBjZG4uY29tL2Jvb3RzdHJhcC8zLjIuMC9jc3MvYm9vdHN0cmFwLm1pbi5jc3MiLz4KICAgIDxsaW5rIHJlbD0ic3R5bGVzaGVldCIgaHJlZj0iaHR0cHM6Ly9tYXhjZG4uYm9vdHN0cmFwY2RuLmNvbS9ib290c3RyYXAvMy4yLjAvY3NzL2Jvb3RzdHJhcC10aGVtZS5taW4uY3NzIi8+CiAgICA8bGluayByZWw9InN0eWxlc2hlZXQiIGhyZWY9Imh0dHBzOi8vbWF4Y2RuLmJvb3RzdHJhcGNkbi5jb20vZm9udC1hd2Vzb21lLzQuNi4zL2Nzcy9mb250LWF3ZXNvbWUubWluLmNzcyIvPgogICAgPGxpbmsgcmVsPSJzdHlsZXNoZWV0IiBocmVmPSJodHRwczovL2NkbmpzLmNsb3VkZmxhcmUuY29tL2FqYXgvbGlicy9MZWFmbGV0LmF3ZXNvbWUtbWFya2Vycy8yLjAuMi9sZWFmbGV0LmF3ZXNvbWUtbWFya2Vycy5jc3MiLz4KICAgIDxsaW5rIHJlbD0ic3R5bGVzaGVldCIgaHJlZj0iaHR0cHM6Ly9yYXdjZG4uZ2l0aGFjay5jb20vcHl0aG9uLXZpc3VhbGl6YXRpb24vZm9saXVtL21hc3Rlci9mb2xpdW0vdGVtcGxhdGVzL2xlYWZsZXQuYXdlc29tZS5yb3RhdGUuY3NzIi8+CiAgICA8c3R5bGU+aHRtbCwgYm9keSB7d2lkdGg6IDEwMCU7aGVpZ2h0OiAxMDAlO21hcmdpbjogMDtwYWRkaW5nOiAwO308L3N0eWxlPgogICAgPHN0eWxlPiNtYXAge3Bvc2l0aW9uOmFic29sdXRlO3RvcDowO2JvdHRvbTowO3JpZ2h0OjA7bGVmdDowO308L3N0eWxlPgogICAgCiAgICA8bWV0YSBuYW1lPSJ2aWV3cG9ydCIgY29udGVudD0id2lkdGg9ZGV2aWNlLXdpZHRoLAogICAgICAgIGluaXRpYWwtc2NhbGU9MS4wLCBtYXhpbXVtLXNjYWxlPTEuMCwgdXNlci1zY2FsYWJsZT1ubyIgLz4KICAgIDxzdHlsZT4jbWFwXzcwNzVjMGY4YWIzMzRlNjhiZTM3YWMyODE2NWQ1ZGQyIHsKICAgICAgICBwb3NpdGlvbjogcmVsYXRpdmU7CiAgICAgICAgd2lkdGg6IDEwMC4wJTsKICAgICAgICBoZWlnaHQ6IDEwMC4wJTsKICAgICAgICBsZWZ0OiAwLjAlOwogICAgICAgIHRvcDogMC4wJTsKICAgICAgICB9CiAgICA8L3N0eWxlPgo8L2hlYWQ+Cjxib2R5PiAgICAKICAgIAogICAgPGRpdiBjbGFzcz0iZm9saXVtLW1hcCIgaWQ9Im1hcF83MDc1YzBmOGFiMzM0ZTY4YmUzN2FjMjgxNjVkNWRkMiIgPjwvZGl2Pgo8L2JvZHk+CjxzY3JpcHQ+ICAgIAogICAgCiAgICAKICAgICAgICB2YXIgYm91bmRzID0gbnVsbDsKICAgIAoKICAgIHZhciBtYXBfNzA3NWMwZjhhYjMzNGU2OGJlMzdhYzI4MTY1ZDVkZDIgPSBMLm1hcCgKICAgICAgICAnbWFwXzcwNzVjMGY4YWIzMzRlNjhiZTM3YWMyODE2NWQ1ZGQyJywgewogICAgICAgIGNlbnRlcjogWzQzLjY1MTA3LCAtNzkuMzQ3MDE1XSwKICAgICAgICB6b29tOiAxMCwKICAgICAgICBtYXhCb3VuZHM6IGJvdW5kcywKICAgICAgICBsYXllcnM6IFtdLAogICAgICAgIHdvcmxkQ29weUp1bXA6IGZhbHNlLAogICAgICAgIGNyczogTC5DUlMuRVBTRzM4NTcsCiAgICAgICAgem9vbUNvbnRyb2w6IHRydWUsCiAgICAgICAgfSk7CgoKICAgIAogICAgdmFyIHRpbGVfbGF5ZXJfNzM1MWU1NThlNmIyNDMzZTlhZTE2YzMyZTg5MGVhZWMgPSBMLnRpbGVMYXllcigKICAgICAgICAnaHR0cHM6Ly97c30udGlsZS5vcGVuc3RyZWV0bWFwLm9yZy97en0ve3h9L3t5fS5wbmcnLAogICAgICAgIHsKICAgICAgICAiYXR0cmlidXRpb24iOiBudWxsLAogICAgICAgICJkZXRlY3RSZXRpbmEiOiBmYWxzZSwKICAgICAgICAibWF4TmF0aXZlWm9vbSI6IDE4LAogICAgICAgICJtYXhab29tIjogMTgsCiAgICAgICAgIm1pblpvb20iOiAwLAogICAgICAgICJub1dyYXAiOiBmYWxzZSwKICAgICAgICAib3BhY2l0eSI6IDEsCiAgICAgICAgInN1YmRvbWFpbnMiOiAiYWJjIiwKICAgICAgICAidG1zIjogZmFsc2UKfSkuYWRkVG8obWFwXzcwNzVjMGY4YWIzMzRlNjhiZTM3YWMyODE2NWQ1ZGQyKTsKICAgIAogICAgICAgICAgICB2YXIgY2lyY2xlX21hcmtlcl8xNTkwNzJiOWJjMjQ0ZTU0ODhhYTYxZjVmNGE5MWIwYiA9IEwuY2lyY2xlTWFya2VyKAogICAgICAgICAgICAgICAgWzQzLjY1NDI1OTksIC03OS4zNjA2MzU5XSwKICAgICAgICAgICAgICAgIHsKICAiYnViYmxpbmdNb3VzZUV2ZW50cyI6IHRydWUsCiAgImNvbG9yIjogIiNmZjAwMDAiLAogICJkYXNoQXJyYXkiOiBudWxsLAogICJkYXNoT2Zmc2V0IjogbnVsbCwKICAiZmlsbCI6IHRydWUsCiAgImZpbGxDb2xvciI6ICIjZmYwMDAwIiwKICAiZmlsbE9wYWNpdHkiOiAwLjcsCiAgImZpbGxSdWxlIjogImV2ZW5vZGQiLAogICJsaW5lQ2FwIjogInJvdW5kIiwKICAibGluZUpvaW4iOiAicm91bmQiLAogICJvcGFjaXR5IjogMS4wLAogICJyYWRpdXMiOiA1LAogICJzdHJva2UiOiB0cnVlLAogICJ3ZWlnaHQiOiAzCn0KICAgICAgICAgICAgICAgICkKICAgICAgICAgICAgICAgIC5hZGRUbyhtYXBfNzA3NWMwZjhhYjMzNGU2OGJlMzdhYzI4MTY1ZDVkZDIpOwogICAgICAgICAgICAKICAgIAogICAgICAgICAgICB2YXIgcG9wdXBfNTY1YzI1MjljODI2NDE0MzhhMmU5MGVlY2Y3MTZjOTAgPSBMLnBvcHVwKHttYXhXaWR0aDogJzEwMCUnCiAgICAgICAgICAgIAogICAgICAgICAgICB9KTsKCiAgICAgICAgICAgIAogICAgICAgICAgICAgICAgdmFyIGh0bWxfNDkwMGIzMDQ5Y2RkNDQ1ZjkyZGUyNjkwZmY3YTY3Y2MgPSAkKGA8ZGl2IGlkPSJodG1sXzQ5MDBiMzA0OWNkZDQ0NWY5MmRlMjY5MGZmN2E2N2NjIiBzdHlsZT0id2lkdGg6IDEwMC4wJTsgaGVpZ2h0OiAxMDAuMCU7Ij4gQ2x1c3RlciAwPC9kaXY+YClbMF07CiAgICAgICAgICAgICAgICBwb3B1cF81NjVjMjUyOWM4MjY0MTQzOGEyZTkwZWVjZjcxNmM5MC5zZXRDb250ZW50KGh0bWxfNDkwMGIzMDQ5Y2RkNDQ1ZjkyZGUyNjkwZmY3YTY3Y2MpOwogICAgICAgICAgICAKCiAgICAgICAgICAgIGNpcmNsZV9tYXJrZXJfMTU5MDcyYjliYzI0NGU1NDg4YWE2MWY1ZjRhOTFiMGIuYmluZFBvcHVwKHBvcHVwXzU2NWMyNTI5YzgyNjQxNDM4YTJlOTBlZWNmNzE2YzkwKQogICAgICAgICAgICA7CgogICAgICAgICAgICAKICAgICAgICAKICAgIAogICAgICAgICAgICB2YXIgY2lyY2xlX21hcmtlcl9hYjQ5OGY2NTI4YzU0MGQ5OWJkODIzZTBiOGZhNDc1ZCA9IEwuY2lyY2xlTWFya2VyKAogICAgICAgICAgICAgICAgWzQzLjY2MjMwMTUsIC03OS4zODk0OTM4XSwKICAgICAgICAgICAgICAgIHsKICAiYnViYmxpbmdNb3VzZUV2ZW50cyI6IHRydWUsCiAgImNvbG9yIjogIiNmZjAwMDAiLAogICJkYXNoQXJyYXkiOiBudWxsLAogICJkYXNoT2Zmc2V0IjogbnVsbCwKICAiZmlsbCI6IHRydWUsCiAgImZpbGxDb2xvciI6ICIjZmYwMDAwIiwKICAiZmlsbE9wYWNpdHkiOiAwLjcsCiAgImZpbGxSdWxlIjogImV2ZW5vZGQiLAogICJsaW5lQ2FwIjogInJvdW5kIiwKICAibGluZUpvaW4iOiAicm91bmQiLAogICJvcGFjaXR5IjogMS4wLAogICJyYWRpdXMiOiA1LAogICJzdHJva2UiOiB0cnVlLAogICJ3ZWlnaHQiOiAzCn0KICAgICAgICAgICAgICAgICkKICAgICAgICAgICAgICAgIC5hZGRUbyhtYXBfNzA3NWMwZjhhYjMzNGU2OGJlMzdhYzI4MTY1ZDVkZDIpOwogICAgICAgICAgICAKICAgIAogICAgICAgICAgICB2YXIgcG9wdXBfOWMxNWUxOTljNzRkNGZlNmI4YTA0M2VlOTlhYmU1Y2EgPSBMLnBvcHVwKHttYXhXaWR0aDogJzEwMCUnCiAgICAgICAgICAgIAogICAgICAgICAgICB9KTsKCiAgICAgICAgICAgIAogICAgICAgICAgICAgICAgdmFyIGh0bWxfNGQxZDA2YTUzODZlNDRmODg5NTUwMjZkOGZiNThmMmYgPSAkKGA8ZGl2IGlkPSJodG1sXzRkMWQwNmE1Mzg2ZTQ0Zjg4OTU1MDI2ZDhmYjU4ZjJmIiBzdHlsZT0id2lkdGg6IDEwMC4wJTsgaGVpZ2h0OiAxMDAuMCU7Ij4gQ2x1c3RlciAwPC9kaXY+YClbMF07CiAgICAgICAgICAgICAgICBwb3B1cF85YzE1ZTE5OWM3NGQ0ZmU2YjhhMDQzZWU5OWFiZTVjYS5zZXRDb250ZW50KGh0bWxfNGQxZDA2YTUzODZlNDRmODg5NTUwMjZkOGZiNThmMmYpOwogICAgICAgICAgICAKCiAgICAgICAgICAgIGNpcmNsZV9tYXJrZXJfYWI0OThmNjUyOGM1NDBkOTliZDgyM2UwYjhmYTQ3NWQuYmluZFBvcHVwKHBvcHVwXzljMTVlMTk5Yzc0ZDRmZTZiOGEwNDNlZTk5YWJlNWNhKQogICAgICAgICAgICA7CgogICAgICAgICAgICAKICAgICAgICAKICAgIAogICAgICAgICAgICB2YXIgY2lyY2xlX21hcmtlcl9kYzZiMmJhOWNmODc0OTllYWExNWMxZWMwNDFkMTU3YSA9IEwuY2lyY2xlTWFya2VyKAogICAgICAgICAgICAgICAgWzQzLjY1NzE2MTgsIC03OS4zNzg5MzcwOTk5OTk5OV0sCiAgICAgICAgICAgICAgICB7CiAgImJ1YmJsaW5nTW91c2VFdmVudHMiOiB0cnVlLAogICJjb2xvciI6ICIjZmYwMDAwIiwKICAiZGFzaEFycmF5IjogbnVsbCwKICAiZGFzaE9mZnNldCI6IG51bGwsCiAgImZpbGwiOiB0cnVlLAogICJmaWxsQ29sb3IiOiAiI2ZmMDAwMCIsCiAgImZpbGxPcGFjaXR5IjogMC43LAogICJmaWxsUnVsZSI6ICJldmVub2RkIiwKICAibGluZUNhcCI6ICJyb3VuZCIsCiAgImxpbmVKb2luIjogInJvdW5kIiwKICAib3BhY2l0eSI6IDEuMCwKICAicmFkaXVzIjogNSwKICAic3Ryb2tlIjogdHJ1ZSwKICAid2VpZ2h0IjogMwp9CiAgICAgICAgICAgICAgICApCiAgICAgICAgICAgICAgICAuYWRkVG8obWFwXzcwNzVjMGY4YWIzMzRlNjhiZTM3YWMyODE2NWQ1ZGQyKTsKICAgICAgICAgICAgCiAgICAKICAgICAgICAgICAgdmFyIHBvcHVwX2M3NTMwNmM5OTAyZDQ3MjZiMzM0Y2VlMzBhNmE3ODk1ID0gTC5wb3B1cCh7bWF4V2lkdGg6ICcxMDAlJwogICAgICAgICAgICAKICAgICAgICAgICAgfSk7CgogICAgICAgICAgICAKICAgICAgICAgICAgICAgIHZhciBodG1sX2E1ZmUzMTA5Mzc4MTQyMTc4MzgzYzUxN2E2MTUxOWZhID0gJChgPGRpdiBpZD0iaHRtbF9hNWZlMzEwOTM3ODE0MjE3ODM4M2M1MTdhNjE1MTlmYSIgc3R5bGU9IndpZHRoOiAxMDAuMCU7IGhlaWdodDogMTAwLjAlOyI+IENsdXN0ZXIgMDwvZGl2PmApWzBdOwogICAgICAgICAgICAgICAgcG9wdXBfYzc1MzA2Yzk5MDJkNDcyNmIzMzRjZWUzMGE2YTc4OTUuc2V0Q29udGVudChodG1sX2E1ZmUzMTA5Mzc4MTQyMTc4MzgzYzUxN2E2MTUxOWZhKTsKICAgICAgICAgICAgCgogICAgICAgICAgICBjaXJjbGVfbWFya2VyX2RjNmIyYmE5Y2Y4NzQ5OWVhYTE1YzFlYzA0MWQxNTdhLmJpbmRQb3B1cChwb3B1cF9jNzUzMDZjOTkwMmQ0NzI2YjMzNGNlZTMwYTZhNzg5NSkKICAgICAgICAgICAgOwoKICAgICAgICAgICAgCiAgICAgICAgCiAgICAKICAgICAgICAgICAgdmFyIGNpcmNsZV9tYXJrZXJfMTg2NGZiNWUxYWI1NGQ1Zjg3MzZjNWZhYzJjNGZiMTIgPSBMLmNpcmNsZU1hcmtlcigKICAgICAgICAgICAgICAgIFs0My42NTE0OTM5LCAtNzkuMzc1NDE3OV0sCiAgICAgICAgICAgICAgICB7CiAgImJ1YmJsaW5nTW91c2VFdmVudHMiOiB0cnVlLAogICJjb2xvciI6ICIjZmYwMDAwIiwKICAiZGFzaEFycmF5IjogbnVsbCwKICAiZGFzaE9mZnNldCI6IG51bGwsCiAgImZpbGwiOiB0cnVlLAogICJmaWxsQ29sb3IiOiAiI2ZmMDAwMCIsCiAgImZpbGxPcGFjaXR5IjogMC43LAogICJmaWxsUnVsZSI6ICJldmVub2RkIiwKICAibGluZUNhcCI6ICJyb3VuZCIsCiAgImxpbmVKb2luIjogInJvdW5kIiwKICAib3BhY2l0eSI6IDEuMCwKICAicmFkaXVzIjogNSwKICAic3Ryb2tlIjogdHJ1ZSwKICAid2VpZ2h0IjogMwp9CiAgICAgICAgICAgICAgICApCiAgICAgICAgICAgICAgICAuYWRkVG8obWFwXzcwNzVjMGY4YWIzMzRlNjhiZTM3YWMyODE2NWQ1ZGQyKTsKICAgICAgICAgICAgCiAgICAKICAgICAgICAgICAgdmFyIHBvcHVwXzFjZmI2NjA4ZTliMTQ4ZDc4ZTE5MzgxMzMzY2UzMmFkID0gTC5wb3B1cCh7bWF4V2lkdGg6ICcxMDAlJwogICAgICAgICAgICAKICAgICAgICAgICAgfSk7CgogICAgICAgICAgICAKICAgICAgICAgICAgICAgIHZhciBodG1sXzdlZGRiMzAzZTI5MTQ3MzM5MjU0OGE2MGY4NTdhMTQ3ID0gJChgPGRpdiBpZD0iaHRtbF83ZWRkYjMwM2UyOTE0NzMzOTI1NDhhNjBmODU3YTE0NyIgc3R5bGU9IndpZHRoOiAxMDAuMCU7IGhlaWdodDogMTAwLjAlOyI+IENsdXN0ZXIgMDwvZGl2PmApWzBdOwogICAgICAgICAgICAgICAgcG9wdXBfMWNmYjY2MDhlOWIxNDhkNzhlMTkzODEzMzNjZTMyYWQuc2V0Q29udGVudChodG1sXzdlZGRiMzAzZTI5MTQ3MzM5MjU0OGE2MGY4NTdhMTQ3KTsKICAgICAgICAgICAgCgogICAgICAgICAgICBjaXJjbGVfbWFya2VyXzE4NjRmYjVlMWFiNTRkNWY4NzM2YzVmYWMyYzRmYjEyLmJpbmRQb3B1cChwb3B1cF8xY2ZiNjYwOGU5YjE0OGQ3OGUxOTM4MTMzM2NlMzJhZCkKICAgICAgICAgICAgOwoKICAgICAgICAgICAgCiAgICAgICAgCiAgICAKICAgICAgICAgICAgdmFyIGNpcmNsZV9tYXJrZXJfYjc2YjNlZTU5MGIzNDVhNTllMTQ5OWYyOWNjODY5NDkgPSBMLmNpcmNsZU1hcmtlcigKICAgICAgICAgICAgICAgIFs0My42NzYzNTczOTk5OTk5OSwgLTc5LjI5MzAzMTJdLAogICAgICAgICAgICAgICAgewogICJidWJibGluZ01vdXNlRXZlbnRzIjogdHJ1ZSwKICAiY29sb3IiOiAiIzgwMDBmZiIsCiAgImRhc2hBcnJheSI6IG51bGwsCiAgImRhc2hPZmZzZXQiOiBudWxsLAogICJmaWxsIjogdHJ1ZSwKICAiZmlsbENvbG9yIjogIiM4MDAwZmYiLAogICJmaWxsT3BhY2l0eSI6IDAuNywKICAiZmlsbFJ1bGUiOiAiZXZlbm9kZCIsCiAgImxpbmVDYXAiOiAicm91bmQiLAogICJsaW5lSm9pbiI6ICJyb3VuZCIsCiAgIm9wYWNpdHkiOiAxLjAsCiAgInJhZGl1cyI6IDUsCiAgInN0cm9rZSI6IHRydWUsCiAgIndlaWdodCI6IDMKfQogICAgICAgICAgICAgICAgKQogICAgICAgICAgICAgICAgLmFkZFRvKG1hcF83MDc1YzBmOGFiMzM0ZTY4YmUzN2FjMjgxNjVkNWRkMik7CiAgICAgICAgICAgIAogICAgCiAgICAgICAgICAgIHZhciBwb3B1cF83NzdmNjI0OTY3NzI0ZDc0YjY0ZmFjMjVhYzZlYjAxNyA9IEwucG9wdXAoe21heFdpZHRoOiAnMTAwJScKICAgICAgICAgICAgCiAgICAgICAgICAgIH0pOwoKICAgICAgICAgICAgCiAgICAgICAgICAgICAgICB2YXIgaHRtbF9jZjJjYzFiMjZiOGY0NzFmYmRjNTgyNWIzOTdlMDViYyA9ICQoYDxkaXYgaWQ9Imh0bWxfY2YyY2MxYjI2YjhmNDcxZmJkYzU4MjViMzk3ZTA1YmMiIHN0eWxlPSJ3aWR0aDogMTAwLjAlOyBoZWlnaHQ6IDEwMC4wJTsiPiBDbHVzdGVyIDE8L2Rpdj5gKVswXTsKICAgICAgICAgICAgICAgIHBvcHVwXzc3N2Y2MjQ5Njc3MjRkNzRiNjRmYWMyNWFjNmViMDE3LnNldENvbnRlbnQoaHRtbF9jZjJjYzFiMjZiOGY0NzFmYmRjNTgyNWIzOTdlMDViYyk7CiAgICAgICAgICAgIAoKICAgICAgICAgICAgY2lyY2xlX21hcmtlcl9iNzZiM2VlNTkwYjM0NWE1OWUxNDk5ZjI5Y2M4Njk0OS5iaW5kUG9wdXAocG9wdXBfNzc3ZjYyNDk2NzcyNGQ3NGI2NGZhYzI1YWM2ZWIwMTcpCiAgICAgICAgICAgIDsKCiAgICAgICAgICAgIAogICAgICAgIAogICAgCiAgICAgICAgICAgIHZhciBjaXJjbGVfbWFya2VyX2RmMGJiMDcyZGE3ZDQyOGVhNjg1MmM5OWE1MDE0YTlmID0gTC5jaXJjbGVNYXJrZXIoCiAgICAgICAgICAgICAgICBbNDMuNjQ0NzcwNzk5OTk5OTk2LCAtNzkuMzczMzA2NF0sCiAgICAgICAgICAgICAgICB7CiAgImJ1YmJsaW5nTW91c2VFdmVudHMiOiB0cnVlLAogICJjb2xvciI6ICIjZmYwMDAwIiwKICAiZGFzaEFycmF5IjogbnVsbCwKICAiZGFzaE9mZnNldCI6IG51bGwsCiAgImZpbGwiOiB0cnVlLAogICJmaWxsQ29sb3IiOiAiI2ZmMDAwMCIsCiAgImZpbGxPcGFjaXR5IjogMC43LAogICJmaWxsUnVsZSI6ICJldmVub2RkIiwKICAibGluZUNhcCI6ICJyb3VuZCIsCiAgImxpbmVKb2luIjogInJvdW5kIiwKICAib3BhY2l0eSI6IDEuMCwKICAicmFkaXVzIjogNSwKICAic3Ryb2tlIjogdHJ1ZSwKICAid2VpZ2h0IjogMwp9CiAgICAgICAgICAgICAgICApCiAgICAgICAgICAgICAgICAuYWRkVG8obWFwXzcwNzVjMGY4YWIzMzRlNjhiZTM3YWMyODE2NWQ1ZGQyKTsKICAgICAgICAgICAgCiAgICAKICAgICAgICAgICAgdmFyIHBvcHVwXzc0NzA3NDUxYTcwNTQ0ZWI5M2ZmZGQ1ZTE1OTAzYzIwID0gTC5wb3B1cCh7bWF4V2lkdGg6ICcxMDAlJwogICAgICAgICAgICAKICAgICAgICAgICAgfSk7CgogICAgICAgICAgICAKICAgICAgICAgICAgICAgIHZhciBodG1sXzQxZTk1ZGU3Y2E4MjQ5YjY4NjA2ZTQ3OGFiYmY2M2E3ID0gJChgPGRpdiBpZD0iaHRtbF80MWU5NWRlN2NhODI0OWI2ODYwNmU0NzhhYmJmNjNhNyIgc3R5bGU9IndpZHRoOiAxMDAuMCU7IGhlaWdodDogMTAwLjAlOyI+IENsdXN0ZXIgMDwvZGl2PmApWzBdOwogICAgICAgICAgICAgICAgcG9wdXBfNzQ3MDc0NTFhNzA1NDRlYjkzZmZkZDVlMTU5MDNjMjAuc2V0Q29udGVudChodG1sXzQxZTk1ZGU3Y2E4MjQ5YjY4NjA2ZTQ3OGFiYmY2M2E3KTsKICAgICAgICAgICAgCgogICAgICAgICAgICBjaXJjbGVfbWFya2VyX2RmMGJiMDcyZGE3ZDQyOGVhNjg1MmM5OWE1MDE0YTlmLmJpbmRQb3B1cChwb3B1cF83NDcwNzQ1MWE3MDU0NGViOTNmZmRkNWUxNTkwM2MyMCkKICAgICAgICAgICAgOwoKICAgICAgICAgICAgCiAgICAgICAgCiAgICAKICAgICAgICAgICAgdmFyIGNpcmNsZV9tYXJrZXJfYzk2MTc3MDQwNzIyNDRlY2JmODUzZDliNThlZGMxMTcgPSBMLmNpcmNsZU1hcmtlcigKICAgICAgICAgICAgICAgIFs0My42NTc5NTI0LCAtNzkuMzg3MzgyNl0sCiAgICAgICAgICAgICAgICB7CiAgImJ1YmJsaW5nTW91c2VFdmVudHMiOiB0cnVlLAogICJjb2xvciI6ICIjZmYwMDAwIiwKICAiZGFzaEFycmF5IjogbnVsbCwKICAiZGFzaE9mZnNldCI6IG51bGwsCiAgImZpbGwiOiB0cnVlLAogICJmaWxsQ29sb3IiOiAiI2ZmMDAwMCIsCiAgImZpbGxPcGFjaXR5IjogMC43LAogICJmaWxsUnVsZSI6ICJldmVub2RkIiwKICAibGluZUNhcCI6ICJyb3VuZCIsCiAgImxpbmVKb2luIjogInJvdW5kIiwKICAib3BhY2l0eSI6IDEuMCwKICAicmFkaXVzIjogNSwKICAic3Ryb2tlIjogdHJ1ZSwKICAid2VpZ2h0IjogMwp9CiAgICAgICAgICAgICAgICApCiAgICAgICAgICAgICAgICAuYWRkVG8obWFwXzcwNzVjMGY4YWIzMzRlNjhiZTM3YWMyODE2NWQ1ZGQyKTsKICAgICAgICAgICAgCiAgICAKICAgICAgICAgICAgdmFyIHBvcHVwXzBiZmRiNjQ5ZGEzMDQ4MWM4NjU3ODQ5N2Y2ZGFhM2M5ID0gTC5wb3B1cCh7bWF4V2lkdGg6ICcxMDAlJwogICAgICAgICAgICAKICAgICAgICAgICAgfSk7CgogICAgICAgICAgICAKICAgICAgICAgICAgICAgIHZhciBodG1sX2VlNDNmZDMyNzJjNDRkM2I4MjNjM2ZiZjFiYjBmZWI1ID0gJChgPGRpdiBpZD0iaHRtbF9lZTQzZmQzMjcyYzQ0ZDNiODIzYzNmYmYxYmIwZmViNSIgc3R5bGU9IndpZHRoOiAxMDAuMCU7IGhlaWdodDogMTAwLjAlOyI+IENsdXN0ZXIgMDwvZGl2PmApWzBdOwogICAgICAgICAgICAgICAgcG9wdXBfMGJmZGI2NDlkYTMwNDgxYzg2NTc4NDk3ZjZkYWEzYzkuc2V0Q29udGVudChodG1sX2VlNDNmZDMyNzJjNDRkM2I4MjNjM2ZiZjFiYjBmZWI1KTsKICAgICAgICAgICAgCgogICAgICAgICAgICBjaXJjbGVfbWFya2VyX2M5NjE3NzA0MDcyMjQ0ZWNiZjg1M2Q5YjU4ZWRjMTE3LmJpbmRQb3B1cChwb3B1cF8wYmZkYjY0OWRhMzA0ODFjODY1Nzg0OTdmNmRhYTNjOSkKICAgICAgICAgICAgOwoKICAgICAgICAgICAgCiAgICAgICAgCiAgICAKICAgICAgICAgICAgdmFyIGNpcmNsZV9tYXJrZXJfYTYxNjE1MDA0NmQwNGJiZmE0NDM0N2Y1YjY5ZjVlZTYgPSBMLmNpcmNsZU1hcmtlcigKICAgICAgICAgICAgICAgIFs0My42Njk1NDIsIC03OS40MjI1NjM3XSwKICAgICAgICAgICAgICAgIHsKICAiYnViYmxpbmdNb3VzZUV2ZW50cyI6IHRydWUsCiAgImNvbG9yIjogIiM4MGZmYjQiLAogICJkYXNoQXJyYXkiOiBudWxsLAogICJkYXNoT2Zmc2V0IjogbnVsbCwKICAiZmlsbCI6IHRydWUsCiAgImZpbGxDb2xvciI6ICIjODBmZmI0IiwKICAiZmlsbE9wYWNpdHkiOiAwLjcsCiAgImZpbGxSdWxlIjogImV2ZW5vZGQiLAogICJsaW5lQ2FwIjogInJvdW5kIiwKICAibGluZUpvaW4iOiAicm91bmQiLAogICJvcGFjaXR5IjogMS4wLAogICJyYWRpdXMiOiA1LAogICJzdHJva2UiOiB0cnVlLAogICJ3ZWlnaHQiOiAzCn0KICAgICAgICAgICAgICAgICkKICAgICAgICAgICAgICAgIC5hZGRUbyhtYXBfNzA3NWMwZjhhYjMzNGU2OGJlMzdhYzI4MTY1ZDVkZDIpOwogICAgICAgICAgICAKICAgIAogICAgICAgICAgICB2YXIgcG9wdXBfMmRmZmFlMzcxMTMzNDhmYTkzYzlmODc3YzBjNDk4MGYgPSBMLnBvcHVwKHttYXhXaWR0aDogJzEwMCUnCiAgICAgICAgICAgIAogICAgICAgICAgICB9KTsKCiAgICAgICAgICAgIAogICAgICAgICAgICAgICAgdmFyIGh0bWxfZGU4NmM2NjdjNjllNGQ0Njk0MjNjNDRhNGU4NWM0ZTkgPSAkKGA8ZGl2IGlkPSJodG1sX2RlODZjNjY3YzY5ZTRkNDY5NDIzYzQ0YTRlODVjNGU5IiBzdHlsZT0id2lkdGg6IDEwMC4wJTsgaGVpZ2h0OiAxMDAuMCU7Ij4gQ2x1c3RlciAzPC9kaXY+YClbMF07CiAgICAgICAgICAgICAgICBwb3B1cF8yZGZmYWUzNzExMzM0OGZhOTNjOWY4NzdjMGM0OTgwZi5zZXRDb250ZW50KGh0bWxfZGU4NmM2NjdjNjllNGQ0Njk0MjNjNDRhNGU4NWM0ZTkpOwogICAgICAgICAgICAKCiAgICAgICAgICAgIGNpcmNsZV9tYXJrZXJfYTYxNjE1MDA0NmQwNGJiZmE0NDM0N2Y1YjY5ZjVlZTYuYmluZFBvcHVwKHBvcHVwXzJkZmZhZTM3MTEzMzQ4ZmE5M2M5Zjg3N2MwYzQ5ODBmKQogICAgICAgICAgICA7CgogICAgICAgICAgICAKICAgICAgICAKICAgIAogICAgICAgICAgICB2YXIgY2lyY2xlX21hcmtlcl9hZWE4ZWVlNDcwYzY0ZTc5ODFjNTY4MDJkYTRlYmNmZCA9IEwuY2lyY2xlTWFya2VyKAogICAgICAgICAgICAgICAgWzQzLjY1MDU3MTIwMDAwMDAxLCAtNzkuMzg0NTY3NV0sCiAgICAgICAgICAgICAgICB7CiAgImJ1YmJsaW5nTW91c2VFdmVudHMiOiB0cnVlLAogICJjb2xvciI6ICIjZmYwMDAwIiwKICAiZGFzaEFycmF5IjogbnVsbCwKICAiZGFzaE9mZnNldCI6IG51bGwsCiAgImZpbGwiOiB0cnVlLAogICJmaWxsQ29sb3IiOiAiI2ZmMDAwMCIsCiAgImZpbGxPcGFjaXR5IjogMC43LAogICJmaWxsUnVsZSI6ICJldmVub2RkIiwKICAibGluZUNhcCI6ICJyb3VuZCIsCiAgImxpbmVKb2luIjogInJvdW5kIiwKICAib3BhY2l0eSI6IDEuMCwKICAicmFkaXVzIjogNSwKICAic3Ryb2tlIjogdHJ1ZSwKICAid2VpZ2h0IjogMwp9CiAgICAgICAgICAgICAgICApCiAgICAgICAgICAgICAgICAuYWRkVG8obWFwXzcwNzVjMGY4YWIzMzRlNjhiZTM3YWMyODE2NWQ1ZGQyKTsKICAgICAgICAgICAgCiAgICAKICAgICAgICAgICAgdmFyIHBvcHVwXzI5MTZjY2VmOGU0NTRlNDU4NmVkOGZjOGJjM2U5OWVhID0gTC5wb3B1cCh7bWF4V2lkdGg6ICcxMDAlJwogICAgICAgICAgICAKICAgICAgICAgICAgfSk7CgogICAgICAgICAgICAKICAgICAgICAgICAgICAgIHZhciBodG1sXzJjZTczODI4MzVhMDQ4MWRhZDcwOTU0ZDBkODNkZGVlID0gJChgPGRpdiBpZD0iaHRtbF8yY2U3MzgyODM1YTA0ODFkYWQ3MDk1NGQwZDgzZGRlZSIgc3R5bGU9IndpZHRoOiAxMDAuMCU7IGhlaWdodDogMTAwLjAlOyI+IENsdXN0ZXIgMDwvZGl2PmApWzBdOwogICAgICAgICAgICAgICAgcG9wdXBfMjkxNmNjZWY4ZTQ1NGU0NTg2ZWQ4ZmM4YmMzZTk5ZWEuc2V0Q29udGVudChodG1sXzJjZTczODI4MzVhMDQ4MWRhZDcwOTU0ZDBkODNkZGVlKTsKICAgICAgICAgICAgCgogICAgICAgICAgICBjaXJjbGVfbWFya2VyX2FlYThlZWU0NzBjNjRlNzk4MWM1NjgwMmRhNGViY2ZkLmJpbmRQb3B1cChwb3B1cF8yOTE2Y2NlZjhlNDU0ZTQ1ODZlZDhmYzhiYzNlOTllYSkKICAgICAgICAgICAgOwoKICAgICAgICAgICAgCiAgICAgICAgCiAgICAKICAgICAgICAgICAgdmFyIGNpcmNsZV9tYXJrZXJfYjkzZmE0YWJjOTEzNDMzMDllYWEzMTA0NThhZjYwYWUgPSBMLmNpcmNsZU1hcmtlcigKICAgICAgICAgICAgICAgIFs0My42NjkwMDUxMDAwMDAwMSwgLTc5LjQ0MjI1OTNdLAogICAgICAgICAgICAgICAgewogICJidWJibGluZ01vdXNlRXZlbnRzIjogdHJ1ZSwKICAiY29sb3IiOiAiIzAwYjVlYiIsCiAgImRhc2hBcnJheSI6IG51bGwsCiAgImRhc2hPZmZzZXQiOiBudWxsLAogICJmaWxsIjogdHJ1ZSwKICAiZmlsbENvbG9yIjogIiMwMGI1ZWIiLAogICJmaWxsT3BhY2l0eSI6IDAuNywKICAiZmlsbFJ1bGUiOiAiZXZlbm9kZCIsCiAgImxpbmVDYXAiOiAicm91bmQiLAogICJsaW5lSm9pbiI6ICJyb3VuZCIsCiAgIm9wYWNpdHkiOiAxLjAsCiAgInJhZGl1cyI6IDUsCiAgInN0cm9rZSI6IHRydWUsCiAgIndlaWdodCI6IDMKfQogICAgICAgICAgICAgICAgKQogICAgICAgICAgICAgICAgLmFkZFRvKG1hcF83MDc1YzBmOGFiMzM0ZTY4YmUzN2FjMjgxNjVkNWRkMik7CiAgICAgICAgICAgIAogICAgCiAgICAgICAgICAgIHZhciBwb3B1cF84NTI4NGEzNGQ0NTg0NDg0YTdjMGViMzliMTU3MGEyOCA9IEwucG9wdXAoe21heFdpZHRoOiAnMTAwJScKICAgICAgICAgICAgCiAgICAgICAgICAgIH0pOwoKICAgICAgICAgICAgCiAgICAgICAgICAgICAgICB2YXIgaHRtbF8xMmRlYjQzMmFkMzY0NjgxYjJkNzlhM2VhMGNmNWM1ZiA9ICQoYDxkaXYgaWQ9Imh0bWxfMTJkZWI0MzJhZDM2NDY4MWIyZDc5YTNlYTBjZjVjNWYiIHN0eWxlPSJ3aWR0aDogMTAwLjAlOyBoZWlnaHQ6IDEwMC4wJTsiPiBDbHVzdGVyIDI8L2Rpdj5gKVswXTsKICAgICAgICAgICAgICAgIHBvcHVwXzg1Mjg0YTM0ZDQ1ODQ0ODRhN2MwZWIzOWIxNTcwYTI4LnNldENvbnRlbnQoaHRtbF8xMmRlYjQzMmFkMzY0NjgxYjJkNzlhM2VhMGNmNWM1Zik7CiAgICAgICAgICAgIAoKICAgICAgICAgICAgY2lyY2xlX21hcmtlcl9iOTNmYTRhYmM5MTM0MzMwOWVhYTMxMDQ1OGFmNjBhZS5iaW5kUG9wdXAocG9wdXBfODUyODRhMzRkNDU4NDQ4NGE3YzBlYjM5YjE1NzBhMjgpCiAgICAgICAgICAgIDsKCiAgICAgICAgICAgIAogICAgICAgIAogICAgCiAgICAgICAgICAgIHZhciBjaXJjbGVfbWFya2VyXzU0M2M0NTRmZmM1ZjRjMTA5YWUyYTQ2ZjI3YTdiNDM2ID0gTC5jaXJjbGVNYXJrZXIoCiAgICAgICAgICAgICAgICBbNDMuNjQwODE1NywgLTc5LjM4MTc1MjI5OTk5OTk5XSwKICAgICAgICAgICAgICAgIHsKICAiYnViYmxpbmdNb3VzZUV2ZW50cyI6IHRydWUsCiAgImNvbG9yIjogIiNmZjAwMDAiLAogICJkYXNoQXJyYXkiOiBudWxsLAogICJkYXNoT2Zmc2V0IjogbnVsbCwKICAiZmlsbCI6IHRydWUsCiAgImZpbGxDb2xvciI6ICIjZmYwMDAwIiwKICAiZmlsbE9wYWNpdHkiOiAwLjcsCiAgImZpbGxSdWxlIjogImV2ZW5vZGQiLAogICJsaW5lQ2FwIjogInJvdW5kIiwKICAibGluZUpvaW4iOiAicm91bmQiLAogICJvcGFjaXR5IjogMS4wLAogICJyYWRpdXMiOiA1LAogICJzdHJva2UiOiB0cnVlLAogICJ3ZWlnaHQiOiAzCn0KICAgICAgICAgICAgICAgICkKICAgICAgICAgICAgICAgIC5hZGRUbyhtYXBfNzA3NWMwZjhhYjMzNGU2OGJlMzdhYzI4MTY1ZDVkZDIpOwogICAgICAgICAgICAKICAgIAogICAgICAgICAgICB2YXIgcG9wdXBfMzg2MjE5ZjNiZDIxNDEyNGEyMjU3ZmRiOWE2MmQwY2MgPSBMLnBvcHVwKHttYXhXaWR0aDogJzEwMCUnCiAgICAgICAgICAgIAogICAgICAgICAgICB9KTsKCiAgICAgICAgICAgIAogICAgICAgICAgICAgICAgdmFyIGh0bWxfMGYwNzJmNGJmMGYyNGMyZTlmODkyMjU1NDM3Y2E5ODcgPSAkKGA8ZGl2IGlkPSJodG1sXzBmMDcyZjRiZjBmMjRjMmU5Zjg5MjI1NTQzN2NhOTg3IiBzdHlsZT0id2lkdGg6IDEwMC4wJTsgaGVpZ2h0OiAxMDAuMCU7Ij4gQ2x1c3RlciAwPC9kaXY+YClbMF07CiAgICAgICAgICAgICAgICBwb3B1cF8zODYyMTlmM2JkMjE0MTI0YTIyNTdmZGI5YTYyZDBjYy5zZXRDb250ZW50KGh0bWxfMGYwNzJmNGJmMGYyNGMyZTlmODkyMjU1NDM3Y2E5ODcpOwogICAgICAgICAgICAKCiAgICAgICAgICAgIGNpcmNsZV9tYXJrZXJfNTQzYzQ1NGZmYzVmNGMxMDlhZTJhNDZmMjdhN2I0MzYuYmluZFBvcHVwKHBvcHVwXzM4NjIxOWYzYmQyMTQxMjRhMjI1N2ZkYjlhNjJkMGNjKQogICAgICAgICAgICA7CgogICAgICAgICAgICAKICAgICAgICAKICAgIAogICAgICAgICAgICB2YXIgY2lyY2xlX21hcmtlcl80NzVmNWFlNDY3OGY0OWI4YWE3NjQ3NGNlNzMyMDM3OCA9IEwuY2lyY2xlTWFya2VyKAogICAgICAgICAgICAgICAgWzQzLjY0NzkyNjcwMDAwMDAwNiwgLTc5LjQxOTc0OTddLAogICAgICAgICAgICAgICAgewogICJidWJibGluZ01vdXNlRXZlbnRzIjogdHJ1ZSwKICAiY29sb3IiOiAiIzgwZmZiNCIsCiAgImRhc2hBcnJheSI6IG51bGwsCiAgImRhc2hPZmZzZXQiOiBudWxsLAogICJmaWxsIjogdHJ1ZSwKICAiZmlsbENvbG9yIjogIiM4MGZmYjQiLAogICJmaWxsT3BhY2l0eSI6IDAuNywKICAiZmlsbFJ1bGUiOiAiZXZlbm9kZCIsCiAgImxpbmVDYXAiOiAicm91bmQiLAogICJsaW5lSm9pbiI6ICJyb3VuZCIsCiAgIm9wYWNpdHkiOiAxLjAsCiAgInJhZGl1cyI6IDUsCiAgInN0cm9rZSI6IHRydWUsCiAgIndlaWdodCI6IDMKfQogICAgICAgICAgICAgICAgKQogICAgICAgICAgICAgICAgLmFkZFRvKG1hcF83MDc1YzBmOGFiMzM0ZTY4YmUzN2FjMjgxNjVkNWRkMik7CiAgICAgICAgICAgIAogICAgCiAgICAgICAgICAgIHZhciBwb3B1cF9jNTZlOWJhYWM4MjU0YjJhOGI0YmQzYjY0OTYzMGQ3MCA9IEwucG9wdXAoe21heFdpZHRoOiAnMTAwJScKICAgICAgICAgICAgCiAgICAgICAgICAgIH0pOwoKICAgICAgICAgICAgCiAgICAgICAgICAgICAgICB2YXIgaHRtbF84MjZiOGFmMDE4MjM0NWFiYWI1MTUxMTE2YmRiMTdmZSA9ICQoYDxkaXYgaWQ9Imh0bWxfODI2YjhhZjAxODIzNDVhYmFiNTE1MTExNmJkYjE3ZmUiIHN0eWxlPSJ3aWR0aDogMTAwLjAlOyBoZWlnaHQ6IDEwMC4wJTsiPiBDbHVzdGVyIDM8L2Rpdj5gKVswXTsKICAgICAgICAgICAgICAgIHBvcHVwX2M1NmU5YmFhYzgyNTRiMmE4YjRiZDNiNjQ5NjMwZDcwLnNldENvbnRlbnQoaHRtbF84MjZiOGFmMDE4MjM0NWFiYWI1MTUxMTE2YmRiMTdmZSk7CiAgICAgICAgICAgIAoKICAgICAgICAgICAgY2lyY2xlX21hcmtlcl80NzVmNWFlNDY3OGY0OWI4YWE3NjQ3NGNlNzMyMDM3OC5iaW5kUG9wdXAocG9wdXBfYzU2ZTliYWFjODI1NGIyYThiNGJkM2I2NDk2MzBkNzApCiAgICAgICAgICAgIDsKCiAgICAgICAgICAgIAogICAgICAgIAogICAgCiAgICAgICAgICAgIHZhciBjaXJjbGVfbWFya2VyXzhiNjM0OWZjNzdmOTQwOTI5YzBmYjVlMGE5MTgzZTllID0gTC5jaXJjbGVNYXJrZXIoCiAgICAgICAgICAgICAgICBbNDMuNjc5NTU3MSwgLTc5LjM1MjE4OF0sCiAgICAgICAgICAgICAgICB7CiAgImJ1YmJsaW5nTW91c2VFdmVudHMiOiB0cnVlLAogICJjb2xvciI6ICIjODAwMGZmIiwKICAiZGFzaEFycmF5IjogbnVsbCwKICAiZGFzaE9mZnNldCI6IG51bGwsCiAgImZpbGwiOiB0cnVlLAogICJmaWxsQ29sb3IiOiAiIzgwMDBmZiIsCiAgImZpbGxPcGFjaXR5IjogMC43LAogICJmaWxsUnVsZSI6ICJldmVub2RkIiwKICAibGluZUNhcCI6ICJyb3VuZCIsCiAgImxpbmVKb2luIjogInJvdW5kIiwKICAib3BhY2l0eSI6IDEuMCwKICAicmFkaXVzIjogNSwKICAic3Ryb2tlIjogdHJ1ZSwKICAid2VpZ2h0IjogMwp9CiAgICAgICAgICAgICAgICApCiAgICAgICAgICAgICAgICAuYWRkVG8obWFwXzcwNzVjMGY4YWIzMzRlNjhiZTM3YWMyODE2NWQ1ZGQyKTsKICAgICAgICAgICAgCiAgICAKICAgICAgICAgICAgdmFyIHBvcHVwX2Q5N2I3MmU0Njc5MzQ3MDFhZmE3YTM4ZTE3NWJlODc0ID0gTC5wb3B1cCh7bWF4V2lkdGg6ICcxMDAlJwogICAgICAgICAgICAKICAgICAgICAgICAgfSk7CgogICAgICAgICAgICAKICAgICAgICAgICAgICAgIHZhciBodG1sXzAzMTg1NzQ3YzQ2YzRmOWM4NjFjNDVkZjQzYWIxZmE1ID0gJChgPGRpdiBpZD0iaHRtbF8wMzE4NTc0N2M0NmM0ZjljODYxYzQ1ZGY0M2FiMWZhNSIgc3R5bGU9IndpZHRoOiAxMDAuMCU7IGhlaWdodDogMTAwLjAlOyI+IENsdXN0ZXIgMTwvZGl2PmApWzBdOwogICAgICAgICAgICAgICAgcG9wdXBfZDk3YjcyZTQ2NzkzNDcwMWFmYTdhMzhlMTc1YmU4NzQuc2V0Q29udGVudChodG1sXzAzMTg1NzQ3YzQ2YzRmOWM4NjFjNDVkZjQzYWIxZmE1KTsKICAgICAgICAgICAgCgogICAgICAgICAgICBjaXJjbGVfbWFya2VyXzhiNjM0OWZjNzdmOTQwOTI5YzBmYjVlMGE5MTgzZTllLmJpbmRQb3B1cChwb3B1cF9kOTdiNzJlNDY3OTM0NzAxYWZhN2EzOGUxNzViZTg3NCkKICAgICAgICAgICAgOwoKICAgICAgICAgICAgCiAgICAgICAgCiAgICAKICAgICAgICAgICAgdmFyIGNpcmNsZV9tYXJrZXJfMDE0NDA5MmRmNTE1NDljMGE1NTE0MGU5NjNmMjA2MjMgPSBMLmNpcmNsZU1hcmtlcigKICAgICAgICAgICAgICAgIFs0My42NDcxNzY4LCAtNzkuMzgxNTc2NDAwMDAwMDFdLAogICAgICAgICAgICAgICAgewogICJidWJibGluZ01vdXNlRXZlbnRzIjogdHJ1ZSwKICAiY29sb3IiOiAiI2ZmMDAwMCIsCiAgImRhc2hBcnJheSI6IG51bGwsCiAgImRhc2hPZmZzZXQiOiBudWxsLAogICJmaWxsIjogdHJ1ZSwKICAiZmlsbENvbG9yIjogIiNmZjAwMDAiLAogICJmaWxsT3BhY2l0eSI6IDAuNywKICAiZmlsbFJ1bGUiOiAiZXZlbm9kZCIsCiAgImxpbmVDYXAiOiAicm91bmQiLAogICJsaW5lSm9pbiI6ICJyb3VuZCIsCiAgIm9wYWNpdHkiOiAxLjAsCiAgInJhZGl1cyI6IDUsCiAgInN0cm9rZSI6IHRydWUsCiAgIndlaWdodCI6IDMKfQogICAgICAgICAgICAgICAgKQogICAgICAgICAgICAgICAgLmFkZFRvKG1hcF83MDc1YzBmOGFiMzM0ZTY4YmUzN2FjMjgxNjVkNWRkMik7CiAgICAgICAgICAgIAogICAgCiAgICAgICAgICAgIHZhciBwb3B1cF83ZmZmMTVjZmViYTY0ODA2OTIwMzYyYWRmOTEzMzg4ZSA9IEwucG9wdXAoe21heFdpZHRoOiAnMTAwJScKICAgICAgICAgICAgCiAgICAgICAgICAgIH0pOwoKICAgICAgICAgICAgCiAgICAgICAgICAgICAgICB2YXIgaHRtbF8yZTU0ZGFkNTQ4OGY0MzNlYjM0YzEwZjkxZmVkMTFiNSA9ICQoYDxkaXYgaWQ9Imh0bWxfMmU1NGRhZDU0ODhmNDMzZWIzNGMxMGY5MWZlZDExYjUiIHN0eWxlPSJ3aWR0aDogMTAwLjAlOyBoZWlnaHQ6IDEwMC4wJTsiPiBDbHVzdGVyIDA8L2Rpdj5gKVswXTsKICAgICAgICAgICAgICAgIHBvcHVwXzdmZmYxNWNmZWJhNjQ4MDY5MjAzNjJhZGY5MTMzODhlLnNldENvbnRlbnQoaHRtbF8yZTU0ZGFkNTQ4OGY0MzNlYjM0YzEwZjkxZmVkMTFiNSk7CiAgICAgICAgICAgIAoKICAgICAgICAgICAgY2lyY2xlX21hcmtlcl8wMTQ0MDkyZGY1MTU0OWMwYTU1MTQwZTk2M2YyMDYyMy5iaW5kUG9wdXAocG9wdXBfN2ZmZjE1Y2ZlYmE2NDgwNjkyMDM2MmFkZjkxMzM4OGUpCiAgICAgICAgICAgIDsKCiAgICAgICAgICAgIAogICAgICAgIAogICAgCiAgICAgICAgICAgIHZhciBjaXJjbGVfbWFya2VyX2UxYjY0ZmY2YWMxYTQxY2U4MjA5NThhZWU4ZGQ0NWNmID0gTC5jaXJjbGVNYXJrZXIoCiAgICAgICAgICAgICAgICBbNDMuNjM2ODQ3MiwgLTc5LjQyODE5MTQwMDAwMDAyXSwKICAgICAgICAgICAgICAgIHsKICAiYnViYmxpbmdNb3VzZUV2ZW50cyI6IHRydWUsCiAgImNvbG9yIjogIiM4MGZmYjQiLAogICJkYXNoQXJyYXkiOiBudWxsLAogICJkYXNoT2Zmc2V0IjogbnVsbCwKICAiZmlsbCI6IHRydWUsCiAgImZpbGxDb2xvciI6ICIjODBmZmI0IiwKICAiZmlsbE9wYWNpdHkiOiAwLjcsCiAgImZpbGxSdWxlIjogImV2ZW5vZGQiLAogICJsaW5lQ2FwIjogInJvdW5kIiwKICAibGluZUpvaW4iOiAicm91bmQiLAogICJvcGFjaXR5IjogMS4wLAogICJyYWRpdXMiOiA1LAogICJzdHJva2UiOiB0cnVlLAogICJ3ZWlnaHQiOiAzCn0KICAgICAgICAgICAgICAgICkKICAgICAgICAgICAgICAgIC5hZGRUbyhtYXBfNzA3NWMwZjhhYjMzNGU2OGJlMzdhYzI4MTY1ZDVkZDIpOwogICAgICAgICAgICAKICAgIAogICAgICAgICAgICB2YXIgcG9wdXBfNTUxOWVhYmEzMmRmNGQ2Mzg0MjA3MjIwYWQ4OWFmOGYgPSBMLnBvcHVwKHttYXhXaWR0aDogJzEwMCUnCiAgICAgICAgICAgIAogICAgICAgICAgICB9KTsKCiAgICAgICAgICAgIAogICAgICAgICAgICAgICAgdmFyIGh0bWxfN2M0Nzk0NDZhNTQ5NGU5YmJjMjE4ZWU4NzRjNjlhMDQgPSAkKGA8ZGl2IGlkPSJodG1sXzdjNDc5NDQ2YTU0OTRlOWJiYzIxOGVlODc0YzY5YTA0IiBzdHlsZT0id2lkdGg6IDEwMC4wJTsgaGVpZ2h0OiAxMDAuMCU7Ij4gQ2x1c3RlciAzPC9kaXY+YClbMF07CiAgICAgICAgICAgICAgICBwb3B1cF81NTE5ZWFiYTMyZGY0ZDYzODQyMDcyMjBhZDg5YWY4Zi5zZXRDb250ZW50KGh0bWxfN2M0Nzk0NDZhNTQ5NGU5YmJjMjE4ZWU4NzRjNjlhMDQpOwogICAgICAgICAgICAKCiAgICAgICAgICAgIGNpcmNsZV9tYXJrZXJfZTFiNjRmZjZhYzFhNDFjZTgyMDk1OGFlZThkZDQ1Y2YuYmluZFBvcHVwKHBvcHVwXzU1MTllYWJhMzJkZjRkNjM4NDIwNzIyMGFkODlhZjhmKQogICAgICAgICAgICA7CgogICAgICAgICAgICAKICAgICAgICAKICAgIAogICAgICAgICAgICB2YXIgY2lyY2xlX21hcmtlcl9kZTkzOTQzZDVmMmI0ZjJiYmQwNWYwOGJiYjZkMTJhYiA9IEwuY2lyY2xlTWFya2VyKAogICAgICAgICAgICAgICAgWzQzLjY2ODk5ODUsIC03OS4zMTU1NzE1OTk5OTk5OF0sCiAgICAgICAgICAgICAgICB7CiAgImJ1YmJsaW5nTW91c2VFdmVudHMiOiB0cnVlLAogICJjb2xvciI6ICIjODAwMGZmIiwKICAiZGFzaEFycmF5IjogbnVsbCwKICAiZGFzaE9mZnNldCI6IG51bGwsCiAgImZpbGwiOiB0cnVlLAogICJmaWxsQ29sb3IiOiAiIzgwMDBmZiIsCiAgImZpbGxPcGFjaXR5IjogMC43LAogICJmaWxsUnVsZSI6ICJldmVub2RkIiwKICAibGluZUNhcCI6ICJyb3VuZCIsCiAgImxpbmVKb2luIjogInJvdW5kIiwKICAib3BhY2l0eSI6IDEuMCwKICAicmFkaXVzIjogNSwKICAic3Ryb2tlIjogdHJ1ZSwKICAid2VpZ2h0IjogMwp9CiAgICAgICAgICAgICAgICApCiAgICAgICAgICAgICAgICAuYWRkVG8obWFwXzcwNzVjMGY4YWIzMzRlNjhiZTM3YWMyODE2NWQ1ZGQyKTsKICAgICAgICAgICAgCiAgICAKICAgICAgICAgICAgdmFyIHBvcHVwX2U5MGRkNDE5YTRkOTRiNTVhZjdiOTczNzA0MmFmMDkxID0gTC5wb3B1cCh7bWF4V2lkdGg6ICcxMDAlJwogICAgICAgICAgICAKICAgICAgICAgICAgfSk7CgogICAgICAgICAgICAKICAgICAgICAgICAgICAgIHZhciBodG1sXzhlYjMzOTRmODQ4NzQ5ZjQ4ZWQ3NjlhYTAxYTkyMGZiID0gJChgPGRpdiBpZD0iaHRtbF84ZWIzMzk0Zjg0ODc0OWY0OGVkNzY5YWEwMWE5MjBmYiIgc3R5bGU9IndpZHRoOiAxMDAuMCU7IGhlaWdodDogMTAwLjAlOyI+IENsdXN0ZXIgMTwvZGl2PmApWzBdOwogICAgICAgICAgICAgICAgcG9wdXBfZTkwZGQ0MTlhNGQ5NGI1NWFmN2I5NzM3MDQyYWYwOTEuc2V0Q29udGVudChodG1sXzhlYjMzOTRmODQ4NzQ5ZjQ4ZWQ3NjlhYTAxYTkyMGZiKTsKICAgICAgICAgICAgCgogICAgICAgICAgICBjaXJjbGVfbWFya2VyX2RlOTM5NDNkNWYyYjRmMmJiZDA1ZjA4YmJiNmQxMmFiLmJpbmRQb3B1cChwb3B1cF9lOTBkZDQxOWE0ZDk0YjU1YWY3Yjk3MzcwNDJhZjA5MSkKICAgICAgICAgICAgOwoKICAgICAgICAgICAgCiAgICAgICAgCiAgICAKICAgICAgICAgICAgdmFyIGNpcmNsZV9tYXJrZXJfZThkMzlhMWI2NDM5NGI5Y2E1NmE4MzU0OWQxNDQ1NDYgPSBMLmNpcmNsZU1hcmtlcigKICAgICAgICAgICAgICAgIFs0My42NDgxOTg1LCAtNzkuMzc5ODE2OTAwMDAwMDFdLAogICAgICAgICAgICAgICAgewogICJidWJibGluZ01vdXNlRXZlbnRzIjogdHJ1ZSwKICAiY29sb3IiOiAiI2ZmMDAwMCIsCiAgImRhc2hBcnJheSI6IG51bGwsCiAgImRhc2hPZmZzZXQiOiBudWxsLAogICJmaWxsIjogdHJ1ZSwKICAiZmlsbENvbG9yIjogIiNmZjAwMDAiLAogICJmaWxsT3BhY2l0eSI6IDAuNywKICAiZmlsbFJ1bGUiOiAiZXZlbm9kZCIsCiAgImxpbmVDYXAiOiAicm91bmQiLAogICJsaW5lSm9pbiI6ICJyb3VuZCIsCiAgIm9wYWNpdHkiOiAxLjAsCiAgInJhZGl1cyI6IDUsCiAgInN0cm9rZSI6IHRydWUsCiAgIndlaWdodCI6IDMKfQogICAgICAgICAgICAgICAgKQogICAgICAgICAgICAgICAgLmFkZFRvKG1hcF83MDc1YzBmOGFiMzM0ZTY4YmUzN2FjMjgxNjVkNWRkMik7CiAgICAgICAgICAgIAogICAgCiAgICAgICAgICAgIHZhciBwb3B1cF80MWMwOWM0YWQyNmU0N2Q5YjE4Yzc3NWQxYTYwODE1NyA9IEwucG9wdXAoe21heFdpZHRoOiAnMTAwJScKICAgICAgICAgICAgCiAgICAgICAgICAgIH0pOwoKICAgICAgICAgICAgCiAgICAgICAgICAgICAgICB2YXIgaHRtbF85YTBhNGM1NWIxYjY0ZjhhODQyZmNmNzk1YzA0NjdjNSA9ICQoYDxkaXYgaWQ9Imh0bWxfOWEwYTRjNTViMWI2NGY4YTg0MmZjZjc5NWMwNDY3YzUiIHN0eWxlPSJ3aWR0aDogMTAwLjAlOyBoZWlnaHQ6IDEwMC4wJTsiPiBDbHVzdGVyIDA8L2Rpdj5gKVswXTsKICAgICAgICAgICAgICAgIHBvcHVwXzQxYzA5YzRhZDI2ZTQ3ZDliMThjNzc1ZDFhNjA4MTU3LnNldENvbnRlbnQoaHRtbF85YTBhNGM1NWIxYjY0ZjhhODQyZmNmNzk1YzA0NjdjNSk7CiAgICAgICAgICAgIAoKICAgICAgICAgICAgY2lyY2xlX21hcmtlcl9lOGQzOWExYjY0Mzk0YjljYTU2YTgzNTQ5ZDE0NDU0Ni5iaW5kUG9wdXAocG9wdXBfNDFjMDljNGFkMjZlNDdkOWIxOGM3NzVkMWE2MDgxNTcpCiAgICAgICAgICAgIDsKCiAgICAgICAgICAgIAogICAgICAgIAogICAgCiAgICAgICAgICAgIHZhciBjaXJjbGVfbWFya2VyX2QzNmVkMTdlODFjMzRiN2U5ZTliZGUxNGZiNmE5OTE5ID0gTC5jaXJjbGVNYXJrZXIoCiAgICAgICAgICAgICAgICBbNDMuNjU5NTI1NSwgLTc5LjM0MDkyM10sCiAgICAgICAgICAgICAgICB7CiAgImJ1YmJsaW5nTW91c2VFdmVudHMiOiB0cnVlLAogICJjb2xvciI6ICIjODAwMGZmIiwKICAiZGFzaEFycmF5IjogbnVsbCwKICAiZGFzaE9mZnNldCI6IG51bGwsCiAgImZpbGwiOiB0cnVlLAogICJmaWxsQ29sb3IiOiAiIzgwMDBmZiIsCiAgImZpbGxPcGFjaXR5IjogMC43LAogICJmaWxsUnVsZSI6ICJldmVub2RkIiwKICAibGluZUNhcCI6ICJyb3VuZCIsCiAgImxpbmVKb2luIjogInJvdW5kIiwKICAib3BhY2l0eSI6IDEuMCwKICAicmFkaXVzIjogNSwKICAic3Ryb2tlIjogdHJ1ZSwKICAid2VpZ2h0IjogMwp9CiAgICAgICAgICAgICAgICApCiAgICAgICAgICAgICAgICAuYWRkVG8obWFwXzcwNzVjMGY4YWIzMzRlNjhiZTM3YWMyODE2NWQ1ZGQyKTsKICAgICAgICAgICAgCiAgICAKICAgICAgICAgICAgdmFyIHBvcHVwXzA1Mzk4MjJkZDRhODRlMDU4NzZmMWU2MDc3ZDY2MjliID0gTC5wb3B1cCh7bWF4V2lkdGg6ICcxMDAlJwogICAgICAgICAgICAKICAgICAgICAgICAgfSk7CgogICAgICAgICAgICAKICAgICAgICAgICAgICAgIHZhciBodG1sXzEwODMxOWZkNzQ4NTQwNmFhZTgzYjVjYmFhMTYxNjhkID0gJChgPGRpdiBpZD0iaHRtbF8xMDgzMTlmZDc0ODU0MDZhYWU4M2I1Y2JhYTE2MTY4ZCIgc3R5bGU9IndpZHRoOiAxMDAuMCU7IGhlaWdodDogMTAwLjAlOyI+IENsdXN0ZXIgMTwvZGl2PmApWzBdOwogICAgICAgICAgICAgICAgcG9wdXBfMDUzOTgyMmRkNGE4NGUwNTg3NmYxZTYwNzdkNjYyOWIuc2V0Q29udGVudChodG1sXzEwODMxOWZkNzQ4NTQwNmFhZTgzYjVjYmFhMTYxNjhkKTsKICAgICAgICAgICAgCgogICAgICAgICAgICBjaXJjbGVfbWFya2VyX2QzNmVkMTdlODFjMzRiN2U5ZTliZGUxNGZiNmE5OTE5LmJpbmRQb3B1cChwb3B1cF8wNTM5ODIyZGQ0YTg0ZTA1ODc2ZjFlNjA3N2Q2NjI5YikKICAgICAgICAgICAgOwoKICAgICAgICAgICAgCiAgICAgICAgCiAgICAKICAgICAgICAgICAgdmFyIGNpcmNsZV9tYXJrZXJfNmZmM2Y0OTAyZDlmNGRhZjljZmYwNWJmYzJkZDM4MDAgPSBMLmNpcmNsZU1hcmtlcigKICAgICAgICAgICAgICAgIFs0My43MjgwMjA1LCAtNzkuMzg4NzkwMV0sCiAgICAgICAgICAgICAgICB7CiAgImJ1YmJsaW5nTW91c2VFdmVudHMiOiB0cnVlLAogICJjb2xvciI6ICIjZmZiMzYwIiwKICAiZGFzaEFycmF5IjogbnVsbCwKICAiZGFzaE9mZnNldCI6IG51bGwsCiAgImZpbGwiOiB0cnVlLAogICJmaWxsQ29sb3IiOiAiI2ZmYjM2MCIsCiAgImZpbGxPcGFjaXR5IjogMC43LAogICJmaWxsUnVsZSI6ICJldmVub2RkIiwKICAibGluZUNhcCI6ICJyb3VuZCIsCiAgImxpbmVKb2luIjogInJvdW5kIiwKICAib3BhY2l0eSI6IDEuMCwKICAicmFkaXVzIjogNSwKICAic3Ryb2tlIjogdHJ1ZSwKICAid2VpZ2h0IjogMwp9CiAgICAgICAgICAgICAgICApCiAgICAgICAgICAgICAgICAuYWRkVG8obWFwXzcwNzVjMGY4YWIzMzRlNjhiZTM3YWMyODE2NWQ1ZGQyKTsKICAgICAgICAgICAgCiAgICAKICAgICAgICAgICAgdmFyIHBvcHVwX2M1MDA1MGI4YmEyMzRlZjI5ZGNmOTc1YTBlMzk3Y2I4ID0gTC5wb3B1cCh7bWF4V2lkdGg6ICcxMDAlJwogICAgICAgICAgICAKICAgICAgICAgICAgfSk7CgogICAgICAgICAgICAKICAgICAgICAgICAgICAgIHZhciBodG1sX2M0ZTdlM2U3MDk4MDQxYzhiM2E3ZTNhMzQ2MjEwOGVlID0gJChgPGRpdiBpZD0iaHRtbF9jNGU3ZTNlNzA5ODA0MWM4YjNhN2UzYTM0NjIxMDhlZSIgc3R5bGU9IndpZHRoOiAxMDAuMCU7IGhlaWdodDogMTAwLjAlOyI+IENsdXN0ZXIgNDwvZGl2PmApWzBdOwogICAgICAgICAgICAgICAgcG9wdXBfYzUwMDUwYjhiYTIzNGVmMjlkY2Y5NzVhMGUzOTdjYjguc2V0Q29udGVudChodG1sX2M0ZTdlM2U3MDk4MDQxYzhiM2E3ZTNhMzQ2MjEwOGVlKTsKICAgICAgICAgICAgCgogICAgICAgICAgICBjaXJjbGVfbWFya2VyXzZmZjNmNDkwMmQ5ZjRkYWY5Y2ZmMDViZmMyZGQzODAwLmJpbmRQb3B1cChwb3B1cF9jNTAwNTBiOGJhMjM0ZWYyOWRjZjk3NWEwZTM5N2NiOCkKICAgICAgICAgICAgOwoKICAgICAgICAgICAgCiAgICAgICAgCiAgICAKICAgICAgICAgICAgdmFyIGNpcmNsZV9tYXJrZXJfNWM1YzMzYTUyNmM4NDU0Yzg4Y2RiZmE2NjM5ZjlkY2EgPSBMLmNpcmNsZU1hcmtlcigKICAgICAgICAgICAgICAgIFs0My43MTE2OTQ4LCAtNzkuNDE2OTM1NTk5OTk5OTldLAogICAgICAgICAgICAgICAgewogICJidWJibGluZ01vdXNlRXZlbnRzIjogdHJ1ZSwKICAiY29sb3IiOiAiI2ZmYjM2MCIsCiAgImRhc2hBcnJheSI6IG51bGwsCiAgImRhc2hPZmZzZXQiOiBudWxsLAogICJmaWxsIjogdHJ1ZSwKICAiZmlsbENvbG9yIjogIiNmZmIzNjAiLAogICJmaWxsT3BhY2l0eSI6IDAuNywKICAiZmlsbFJ1bGUiOiAiZXZlbm9kZCIsCiAgImxpbmVDYXAiOiAicm91bmQiLAogICJsaW5lSm9pbiI6ICJyb3VuZCIsCiAgIm9wYWNpdHkiOiAxLjAsCiAgInJhZGl1cyI6IDUsCiAgInN0cm9rZSI6IHRydWUsCiAgIndlaWdodCI6IDMKfQogICAgICAgICAgICAgICAgKQogICAgICAgICAgICAgICAgLmFkZFRvKG1hcF83MDc1YzBmOGFiMzM0ZTY4YmUzN2FjMjgxNjVkNWRkMik7CiAgICAgICAgICAgIAogICAgCiAgICAgICAgICAgIHZhciBwb3B1cF83MGY4YjU3NjQ4NWI0MzNkOWI5ZGM3NGM4ZWJlZGFmMiA9IEwucG9wdXAoe21heFdpZHRoOiAnMTAwJScKICAgICAgICAgICAgCiAgICAgICAgICAgIH0pOwoKICAgICAgICAgICAgCiAgICAgICAgICAgICAgICB2YXIgaHRtbF8xNGE5Yjc4MjZmMGI0MjcyOTg5NDBmOWZkYjcwN2QyMSA9ICQoYDxkaXYgaWQ9Imh0bWxfMTRhOWI3ODI2ZjBiNDI3Mjk4OTQwZjlmZGI3MDdkMjEiIHN0eWxlPSJ3aWR0aDogMTAwLjAlOyBoZWlnaHQ6IDEwMC4wJTsiPiBDbHVzdGVyIDQ8L2Rpdj5gKVswXTsKICAgICAgICAgICAgICAgIHBvcHVwXzcwZjhiNTc2NDg1YjQzM2Q5YjlkYzc0YzhlYmVkYWYyLnNldENvbnRlbnQoaHRtbF8xNGE5Yjc4MjZmMGI0MjcyOTg5NDBmOWZkYjcwN2QyMSk7CiAgICAgICAgICAgIAoKICAgICAgICAgICAgY2lyY2xlX21hcmtlcl81YzVjMzNhNTI2Yzg0NTRjODhjZGJmYTY2MzlmOWRjYS5iaW5kUG9wdXAocG9wdXBfNzBmOGI1NzY0ODViNDMzZDliOWRjNzRjOGViZWRhZjIpCiAgICAgICAgICAgIDsKCiAgICAgICAgICAgIAogICAgICAgIAogICAgCiAgICAgICAgICAgIHZhciBjaXJjbGVfbWFya2VyXzczMTQwOTA0MzhhMzQxOWRiOGRkYTZjNTdlY2IxODI3ID0gTC5jaXJjbGVNYXJrZXIoCiAgICAgICAgICAgICAgICBbNDMuNzEyNzUxMSwgLTc5LjM5MDE5NzVdLAogICAgICAgICAgICAgICAgewogICJidWJibGluZ01vdXNlRXZlbnRzIjogdHJ1ZSwKICAiY29sb3IiOiAiI2ZmYjM2MCIsCiAgImRhc2hBcnJheSI6IG51bGwsCiAgImRhc2hPZmZzZXQiOiBudWxsLAogICJmaWxsIjogdHJ1ZSwKICAiZmlsbENvbG9yIjogIiNmZmIzNjAiLAogICJmaWxsT3BhY2l0eSI6IDAuNywKICAiZmlsbFJ1bGUiOiAiZXZlbm9kZCIsCiAgImxpbmVDYXAiOiAicm91bmQiLAogICJsaW5lSm9pbiI6ICJyb3VuZCIsCiAgIm9wYWNpdHkiOiAxLjAsCiAgInJhZGl1cyI6IDUsCiAgInN0cm9rZSI6IHRydWUsCiAgIndlaWdodCI6IDMKfQogICAgICAgICAgICAgICAgKQogICAgICAgICAgICAgICAgLmFkZFRvKG1hcF83MDc1YzBmOGFiMzM0ZTY4YmUzN2FjMjgxNjVkNWRkMik7CiAgICAgICAgICAgIAogICAgCiAgICAgICAgICAgIHZhciBwb3B1cF8zZWZlMDg5ZDI1OGE0ZDE1YjU0ZTFhZjBmMDg1YWIyZiA9IEwucG9wdXAoe21heFdpZHRoOiAnMTAwJScKICAgICAgICAgICAgCiAgICAgICAgICAgIH0pOwoKICAgICAgICAgICAgCiAgICAgICAgICAgICAgICB2YXIgaHRtbF82ZmFlNTJmM2EyNTU0ZGEyYTE2ZTkyNDhhNzYwMmJkOSA9ICQoYDxkaXYgaWQ9Imh0bWxfNmZhZTUyZjNhMjU1NGRhMmExNmU5MjQ4YTc2MDJiZDkiIHN0eWxlPSJ3aWR0aDogMTAwLjAlOyBoZWlnaHQ6IDEwMC4wJTsiPiBDbHVzdGVyIDQ8L2Rpdj5gKVswXTsKICAgICAgICAgICAgICAgIHBvcHVwXzNlZmUwODlkMjU4YTRkMTViNTRlMWFmMGYwODVhYjJmLnNldENvbnRlbnQoaHRtbF82ZmFlNTJmM2EyNTU0ZGEyYTE2ZTkyNDhhNzYwMmJkOSk7CiAgICAgICAgICAgIAoKICAgICAgICAgICAgY2lyY2xlX21hcmtlcl83MzE0MDkwNDM4YTM0MTlkYjhkZGE2YzU3ZWNiMTgyNy5iaW5kUG9wdXAocG9wdXBfM2VmZTA4OWQyNThhNGQxNWI1NGUxYWYwZjA4NWFiMmYpCiAgICAgICAgICAgIDsKCiAgICAgICAgICAgIAogICAgICAgIAogICAgCiAgICAgICAgICAgIHZhciBjaXJjbGVfbWFya2VyXzgzMTViYjU2MjliZTRiZmM4YTJhN2UxNWEwMTJkMzc0ID0gTC5jaXJjbGVNYXJrZXIoCiAgICAgICAgICAgICAgICBbNDMuNjk2OTQ3NiwgLTc5LjQxMTMwNzIwMDAwMDAxXSwKICAgICAgICAgICAgICAgIHsKICAiYnViYmxpbmdNb3VzZUV2ZW50cyI6IHRydWUsCiAgImNvbG9yIjogIiNmZmIzNjAiLAogICJkYXNoQXJyYXkiOiBudWxsLAogICJkYXNoT2Zmc2V0IjogbnVsbCwKICAiZmlsbCI6IHRydWUsCiAgImZpbGxDb2xvciI6ICIjZmZiMzYwIiwKICAiZmlsbE9wYWNpdHkiOiAwLjcsCiAgImZpbGxSdWxlIjogImV2ZW5vZGQiLAogICJsaW5lQ2FwIjogInJvdW5kIiwKICAibGluZUpvaW4iOiAicm91bmQiLAogICJvcGFjaXR5IjogMS4wLAogICJyYWRpdXMiOiA1LAogICJzdHJva2UiOiB0cnVlLAogICJ3ZWlnaHQiOiAzCn0KICAgICAgICAgICAgICAgICkKICAgICAgICAgICAgICAgIC5hZGRUbyhtYXBfNzA3NWMwZjhhYjMzNGU2OGJlMzdhYzI4MTY1ZDVkZDIpOwogICAgICAgICAgICAKICAgIAogICAgICAgICAgICB2YXIgcG9wdXBfNDc1YTc4NDAyZjMwNDY4Y2I1NmQ2YmVlYjI4OTY4YWYgPSBMLnBvcHVwKHttYXhXaWR0aDogJzEwMCUnCiAgICAgICAgICAgIAogICAgICAgICAgICB9KTsKCiAgICAgICAgICAgIAogICAgICAgICAgICAgICAgdmFyIGh0bWxfNDdkZTc0N2E3Njc3NGU4ZDlkOGRjNDQ0MmU3NzY0NDcgPSAkKGA8ZGl2IGlkPSJodG1sXzQ3ZGU3NDdhNzY3NzRlOGQ5ZDhkYzQ0NDJlNzc2NDQ3IiBzdHlsZT0id2lkdGg6IDEwMC4wJTsgaGVpZ2h0OiAxMDAuMCU7Ij4gQ2x1c3RlciA0PC9kaXY+YClbMF07CiAgICAgICAgICAgICAgICBwb3B1cF80NzVhNzg0MDJmMzA0NjhjYjU2ZDZiZWViMjg5NjhhZi5zZXRDb250ZW50KGh0bWxfNDdkZTc0N2E3Njc3NGU4ZDlkOGRjNDQ0MmU3NzY0NDcpOwogICAgICAgICAgICAKCiAgICAgICAgICAgIGNpcmNsZV9tYXJrZXJfODMxNWJiNTYyOWJlNGJmYzhhMmE3ZTE1YTAxMmQzNzQuYmluZFBvcHVwKHBvcHVwXzQ3NWE3ODQwMmYzMDQ2OGNiNTZkNmJlZWIyODk2OGFmKQogICAgICAgICAgICA7CgogICAgICAgICAgICAKICAgICAgICAKICAgIAogICAgICAgICAgICB2YXIgY2lyY2xlX21hcmtlcl9hOWVkOWM3OGZlNDU0ZWFjOGMyYTM3OThlNDhhY2U3NyA9IEwuY2lyY2xlTWFya2VyKAogICAgICAgICAgICAgICAgWzQzLjY2MTYwODMsIC03OS40NjQ3NjMyOTk5OTk5OV0sCiAgICAgICAgICAgICAgICB7CiAgImJ1YmJsaW5nTW91c2VFdmVudHMiOiB0cnVlLAogICJjb2xvciI6ICIjMDBiNWViIiwKICAiZGFzaEFycmF5IjogbnVsbCwKICAiZGFzaE9mZnNldCI6IG51bGwsCiAgImZpbGwiOiB0cnVlLAogICJmaWxsQ29sb3IiOiAiIzAwYjVlYiIsCiAgImZpbGxPcGFjaXR5IjogMC43LAogICJmaWxsUnVsZSI6ICJldmVub2RkIiwKICAibGluZUNhcCI6ICJyb3VuZCIsCiAgImxpbmVKb2luIjogInJvdW5kIiwKICAib3BhY2l0eSI6IDEuMCwKICAicmFkaXVzIjogNSwKICAic3Ryb2tlIjogdHJ1ZSwKICAid2VpZ2h0IjogMwp9CiAgICAgICAgICAgICAgICApCiAgICAgICAgICAgICAgICAuYWRkVG8obWFwXzcwNzVjMGY4YWIzMzRlNjhiZTM3YWMyODE2NWQ1ZGQyKTsKICAgICAgICAgICAgCiAgICAKICAgICAgICAgICAgdmFyIHBvcHVwX2NkMWNhYzkzNGNkOTQ1OTc4N2ZhNTBkOWEyMDgzY2IwID0gTC5wb3B1cCh7bWF4V2lkdGg6ICcxMDAlJwogICAgICAgICAgICAKICAgICAgICAgICAgfSk7CgogICAgICAgICAgICAKICAgICAgICAgICAgICAgIHZhciBodG1sX2M3MzhmYTJjYWE3MTQ1Y2Q4OTdiZTMxODZhOTQ1MzA5ID0gJChgPGRpdiBpZD0iaHRtbF9jNzM4ZmEyY2FhNzE0NWNkODk3YmUzMTg2YTk0NTMwOSIgc3R5bGU9IndpZHRoOiAxMDAuMCU7IGhlaWdodDogMTAwLjAlOyI+IENsdXN0ZXIgMjwvZGl2PmApWzBdOwogICAgICAgICAgICAgICAgcG9wdXBfY2QxY2FjOTM0Y2Q5NDU5Nzg3ZmE1MGQ5YTIwODNjYjAuc2V0Q29udGVudChodG1sX2M3MzhmYTJjYWE3MTQ1Y2Q4OTdiZTMxODZhOTQ1MzA5KTsKICAgICAgICAgICAgCgogICAgICAgICAgICBjaXJjbGVfbWFya2VyX2E5ZWQ5Yzc4ZmU0NTRlYWM4YzJhMzc5OGU0OGFjZTc3LmJpbmRQb3B1cChwb3B1cF9jZDFjYWM5MzRjZDk0NTk3ODdmYTUwZDlhMjA4M2NiMCkKICAgICAgICAgICAgOwoKICAgICAgICAgICAgCiAgICAgICAgCiAgICAKICAgICAgICAgICAgdmFyIGNpcmNsZV9tYXJrZXJfM2E4NmE4Yjc2M2E1NGRkNTgxZGY0YjIwYWVjNzViYjIgPSBMLmNpcmNsZU1hcmtlcigKICAgICAgICAgICAgICAgIFs0My43MTUzODM0LCAtNzkuNDA1Njc4NDAwMDAwMDFdLAogICAgICAgICAgICAgICAgewogICJidWJibGluZ01vdXNlRXZlbnRzIjogdHJ1ZSwKICAiY29sb3IiOiAiI2ZmYjM2MCIsCiAgImRhc2hBcnJheSI6IG51bGwsCiAgImRhc2hPZmZzZXQiOiBudWxsLAogICJmaWxsIjogdHJ1ZSwKICAiZmlsbENvbG9yIjogIiNmZmIzNjAiLAogICJmaWxsT3BhY2l0eSI6IDAuNywKICAiZmlsbFJ1bGUiOiAiZXZlbm9kZCIsCiAgImxpbmVDYXAiOiAicm91bmQiLAogICJsaW5lSm9pbiI6ICJyb3VuZCIsCiAgIm9wYWNpdHkiOiAxLjAsCiAgInJhZGl1cyI6IDUsCiAgInN0cm9rZSI6IHRydWUsCiAgIndlaWdodCI6IDMKfQogICAgICAgICAgICAgICAgKQogICAgICAgICAgICAgICAgLmFkZFRvKG1hcF83MDc1YzBmOGFiMzM0ZTY4YmUzN2FjMjgxNjVkNWRkMik7CiAgICAgICAgICAgIAogICAgCiAgICAgICAgICAgIHZhciBwb3B1cF81OWNlNmY1OGI4OWM0MGQ0OTVjMDZjYTNiZTYzMWVlMSA9IEwucG9wdXAoe21heFdpZHRoOiAnMTAwJScKICAgICAgICAgICAgCiAgICAgICAgICAgIH0pOwoKICAgICAgICAgICAgCiAgICAgICAgICAgICAgICB2YXIgaHRtbF9lNmQyMmFhZTAzZjg0MTFiYjM4NzUzNmU1ZDZlZjk5ZSA9ICQoYDxkaXYgaWQ9Imh0bWxfZTZkMjJhYWUwM2Y4NDExYmIzODc1MzZlNWQ2ZWY5OWUiIHN0eWxlPSJ3aWR0aDogMTAwLjAlOyBoZWlnaHQ6IDEwMC4wJTsiPiBDbHVzdGVyIDQ8L2Rpdj5gKVswXTsKICAgICAgICAgICAgICAgIHBvcHVwXzU5Y2U2ZjU4Yjg5YzQwZDQ5NWMwNmNhM2JlNjMxZWUxLnNldENvbnRlbnQoaHRtbF9lNmQyMmFhZTAzZjg0MTFiYjM4NzUzNmU1ZDZlZjk5ZSk7CiAgICAgICAgICAgIAoKICAgICAgICAgICAgY2lyY2xlX21hcmtlcl8zYTg2YThiNzYzYTU0ZGQ1ODFkZjRiMjBhZWM3NWJiMi5iaW5kUG9wdXAocG9wdXBfNTljZTZmNThiODljNDBkNDk1YzA2Y2EzYmU2MzFlZTEpCiAgICAgICAgICAgIDsKCiAgICAgICAgICAgIAogICAgICAgIAogICAgCiAgICAgICAgICAgIHZhciBjaXJjbGVfbWFya2VyX2UxNjYyNWY1MGRhZDQ3NWE5ZjllYzY0ZDZiNWNlMGUyID0gTC5jaXJjbGVNYXJrZXIoCiAgICAgICAgICAgICAgICBbNDMuNjcyNzA5NywgLTc5LjQwNTY3ODQwMDAwMDAxXSwKICAgICAgICAgICAgICAgIHsKICAiYnViYmxpbmdNb3VzZUV2ZW50cyI6IHRydWUsCiAgImNvbG9yIjogIiM4MGZmYjQiLAogICJkYXNoQXJyYXkiOiBudWxsLAogICJkYXNoT2Zmc2V0IjogbnVsbCwKICAiZmlsbCI6IHRydWUsCiAgImZpbGxDb2xvciI6ICIjODBmZmI0IiwKICAiZmlsbE9wYWNpdHkiOiAwLjcsCiAgImZpbGxSdWxlIjogImV2ZW5vZGQiLAogICJsaW5lQ2FwIjogInJvdW5kIiwKICAibGluZUpvaW4iOiAicm91bmQiLAogICJvcGFjaXR5IjogMS4wLAogICJyYWRpdXMiOiA1LAogICJzdHJva2UiOiB0cnVlLAogICJ3ZWlnaHQiOiAzCn0KICAgICAgICAgICAgICAgICkKICAgICAgICAgICAgICAgIC5hZGRUbyhtYXBfNzA3NWMwZjhhYjMzNGU2OGJlMzdhYzI4MTY1ZDVkZDIpOwogICAgICAgICAgICAKICAgIAogICAgICAgICAgICB2YXIgcG9wdXBfNzIxZGE2NGYzNWExNDhlODgzMGIzMjMyNTFkMjE1ZDkgPSBMLnBvcHVwKHttYXhXaWR0aDogJzEwMCUnCiAgICAgICAgICAgIAogICAgICAgICAgICB9KTsKCiAgICAgICAgICAgIAogICAgICAgICAgICAgICAgdmFyIGh0bWxfZmI4MmRiNTI4ZGFjNDhhNmFhMjAxNDE4OGM5ZTA4ZjAgPSAkKGA8ZGl2IGlkPSJodG1sX2ZiODJkYjUyOGRhYzQ4YTZhYTIwMTQxODhjOWUwOGYwIiBzdHlsZT0id2lkdGg6IDEwMC4wJTsgaGVpZ2h0OiAxMDAuMCU7Ij4gQ2x1c3RlciAzPC9kaXY+YClbMF07CiAgICAgICAgICAgICAgICBwb3B1cF83MjFkYTY0ZjM1YTE0OGU4ODMwYjMyMzI1MWQyMTVkOS5zZXRDb250ZW50KGh0bWxfZmI4MmRiNTI4ZGFjNDhhNmFhMjAxNDE4OGM5ZTA4ZjApOwogICAgICAgICAgICAKCiAgICAgICAgICAgIGNpcmNsZV9tYXJrZXJfZTE2NjI1ZjUwZGFkNDc1YTlmOWVjNjRkNmI1Y2UwZTIuYmluZFBvcHVwKHBvcHVwXzcyMWRhNjRmMzVhMTQ4ZTg4MzBiMzIzMjUxZDIxNWQ5KQogICAgICAgICAgICA7CgogICAgICAgICAgICAKICAgICAgICAKICAgIAogICAgICAgICAgICB2YXIgY2lyY2xlX21hcmtlcl8xNDI2Y2ExMDA4Yjg0ZTM3YThiOTBlNGQ5ZjE5YzFkYiA9IEwuY2lyY2xlTWFya2VyKAogICAgICAgICAgICAgICAgWzQzLjY0ODk1OTcsIC03OS40NTYzMjVdLAogICAgICAgICAgICAgICAgewogICJidWJibGluZ01vdXNlRXZlbnRzIjogdHJ1ZSwKICAiY29sb3IiOiAiIzAwYjVlYiIsCiAgImRhc2hBcnJheSI6IG51bGwsCiAgImRhc2hPZmZzZXQiOiBudWxsLAogICJmaWxsIjogdHJ1ZSwKICAiZmlsbENvbG9yIjogIiMwMGI1ZWIiLAogICJmaWxsT3BhY2l0eSI6IDAuNywKICAiZmlsbFJ1bGUiOiAiZXZlbm9kZCIsCiAgImxpbmVDYXAiOiAicm91bmQiLAogICJsaW5lSm9pbiI6ICJyb3VuZCIsCiAgIm9wYWNpdHkiOiAxLjAsCiAgInJhZGl1cyI6IDUsCiAgInN0cm9rZSI6IHRydWUsCiAgIndlaWdodCI6IDMKfQogICAgICAgICAgICAgICAgKQogICAgICAgICAgICAgICAgLmFkZFRvKG1hcF83MDc1YzBmOGFiMzM0ZTY4YmUzN2FjMjgxNjVkNWRkMik7CiAgICAgICAgICAgIAogICAgCiAgICAgICAgICAgIHZhciBwb3B1cF9jNzQwNTdlMThmMDk0YWY0YjczYjhjMGEyYWNlNWVlYyA9IEwucG9wdXAoe21heFdpZHRoOiAnMTAwJScKICAgICAgICAgICAgCiAgICAgICAgICAgIH0pOwoKICAgICAgICAgICAgCiAgICAgICAgICAgICAgICB2YXIgaHRtbF85Yjk4YWI0MDY1ZjU0ZDM5YTdkYzEwN2NiZWQ1MzU2ZiA9ICQoYDxkaXYgaWQ9Imh0bWxfOWI5OGFiNDA2NWY1NGQzOWE3ZGMxMDdjYmVkNTM1NmYiIHN0eWxlPSJ3aWR0aDogMTAwLjAlOyBoZWlnaHQ6IDEwMC4wJTsiPiBDbHVzdGVyIDI8L2Rpdj5gKVswXTsKICAgICAgICAgICAgICAgIHBvcHVwX2M3NDA1N2UxOGYwOTRhZjRiNzNiOGMwYTJhY2U1ZWVjLnNldENvbnRlbnQoaHRtbF85Yjk4YWI0MDY1ZjU0ZDM5YTdkYzEwN2NiZWQ1MzU2Zik7CiAgICAgICAgICAgIAoKICAgICAgICAgICAgY2lyY2xlX21hcmtlcl8xNDI2Y2ExMDA4Yjg0ZTM3YThiOTBlNGQ5ZjE5YzFkYi5iaW5kUG9wdXAocG9wdXBfYzc0MDU3ZTE4ZjA5NGFmNGI3M2I4YzBhMmFjZTVlZWMpCiAgICAgICAgICAgIDsKCiAgICAgICAgICAgIAogICAgICAgIAogICAgCiAgICAgICAgICAgIHZhciBjaXJjbGVfbWFya2VyX2Q3NWNhYjc2MTc3YjRmMDM4MDI4OGI0NGI5YmU0M2RlID0gTC5jaXJjbGVNYXJrZXIoCiAgICAgICAgICAgICAgICBbNDMuNzA0MzI0NCwgLTc5LjM4ODc5MDFdLAogICAgICAgICAgICAgICAgewogICJidWJibGluZ01vdXNlRXZlbnRzIjogdHJ1ZSwKICAiY29sb3IiOiAiI2ZmYjM2MCIsCiAgImRhc2hBcnJheSI6IG51bGwsCiAgImRhc2hPZmZzZXQiOiBudWxsLAogICJmaWxsIjogdHJ1ZSwKICAiZmlsbENvbG9yIjogIiNmZmIzNjAiLAogICJmaWxsT3BhY2l0eSI6IDAuNywKICAiZmlsbFJ1bGUiOiAiZXZlbm9kZCIsCiAgImxpbmVDYXAiOiAicm91bmQiLAogICJsaW5lSm9pbiI6ICJyb3VuZCIsCiAgIm9wYWNpdHkiOiAxLjAsCiAgInJhZGl1cyI6IDUsCiAgInN0cm9rZSI6IHRydWUsCiAgIndlaWdodCI6IDMKfQogICAgICAgICAgICAgICAgKQogICAgICAgICAgICAgICAgLmFkZFRvKG1hcF83MDc1YzBmOGFiMzM0ZTY4YmUzN2FjMjgxNjVkNWRkMik7CiAgICAgICAgICAgIAogICAgCiAgICAgICAgICAgIHZhciBwb3B1cF84ODRjNmNiYzM1YTM0NTZjOTdkODA5OTQ3YTc3ZDFjMiA9IEwucG9wdXAoe21heFdpZHRoOiAnMTAwJScKICAgICAgICAgICAgCiAgICAgICAgICAgIH0pOwoKICAgICAgICAgICAgCiAgICAgICAgICAgICAgICB2YXIgaHRtbF9iMGQ1NWRjOTZmYzU0YzA3YmYyYmU0ZjA0OTcwMzJjMCA9ICQoYDxkaXYgaWQ9Imh0bWxfYjBkNTVkYzk2ZmM1NGMwN2JmMmJlNGYwNDk3MDMyYzAiIHN0eWxlPSJ3aWR0aDogMTAwLjAlOyBoZWlnaHQ6IDEwMC4wJTsiPiBDbHVzdGVyIDQ8L2Rpdj5gKVswXTsKICAgICAgICAgICAgICAgIHBvcHVwXzg4NGM2Y2JjMzVhMzQ1NmM5N2Q4MDk5NDdhNzdkMWMyLnNldENvbnRlbnQoaHRtbF9iMGQ1NWRjOTZmYzU0YzA3YmYyYmU0ZjA0OTcwMzJjMCk7CiAgICAgICAgICAgIAoKICAgICAgICAgICAgY2lyY2xlX21hcmtlcl9kNzVjYWI3NjE3N2I0ZjAzODAyODhiNDRiOWJlNDNkZS5iaW5kUG9wdXAocG9wdXBfODg0YzZjYmMzNWEzNDU2Yzk3ZDgwOTk0N2E3N2QxYzIpCiAgICAgICAgICAgIDsKCiAgICAgICAgICAgIAogICAgICAgIAogICAgCiAgICAgICAgICAgIHZhciBjaXJjbGVfbWFya2VyX2I3OWNhZWUzMDFiMjQ5YzY5OGU3NmIwNDI4MzA5MDU5ID0gTC5jaXJjbGVNYXJrZXIoCiAgICAgICAgICAgICAgICBbNDMuNjYyNjk1NiwgLTc5LjQwMDA0OTNdLAogICAgICAgICAgICAgICAgewogICJidWJibGluZ01vdXNlRXZlbnRzIjogdHJ1ZSwKICAiY29sb3IiOiAiIzgwZmZiNCIsCiAgImRhc2hBcnJheSI6IG51bGwsCiAgImRhc2hPZmZzZXQiOiBudWxsLAogICJmaWxsIjogdHJ1ZSwKICAiZmlsbENvbG9yIjogIiM4MGZmYjQiLAogICJmaWxsT3BhY2l0eSI6IDAuNywKICAiZmlsbFJ1bGUiOiAiZXZlbm9kZCIsCiAgImxpbmVDYXAiOiAicm91bmQiLAogICJsaW5lSm9pbiI6ICJyb3VuZCIsCiAgIm9wYWNpdHkiOiAxLjAsCiAgInJhZGl1cyI6IDUsCiAgInN0cm9rZSI6IHRydWUsCiAgIndlaWdodCI6IDMKfQogICAgICAgICAgICAgICAgKQogICAgICAgICAgICAgICAgLmFkZFRvKG1hcF83MDc1YzBmOGFiMzM0ZTY4YmUzN2FjMjgxNjVkNWRkMik7CiAgICAgICAgICAgIAogICAgCiAgICAgICAgICAgIHZhciBwb3B1cF81YTFjMTNmMzk5OTE0MDNjYWNiNmVlM2Q2OGM1OWJhMyA9IEwucG9wdXAoe21heFdpZHRoOiAnMTAwJScKICAgICAgICAgICAgCiAgICAgICAgICAgIH0pOwoKICAgICAgICAgICAgCiAgICAgICAgICAgICAgICB2YXIgaHRtbF9kZDFjYWYzMzlhZDI0ZTAzOWViODUxMWEwZGVhMjk5MSA9ICQoYDxkaXYgaWQ9Imh0bWxfZGQxY2FmMzM5YWQyNGUwMzllYjg1MTFhMGRlYTI5OTEiIHN0eWxlPSJ3aWR0aDogMTAwLjAlOyBoZWlnaHQ6IDEwMC4wJTsiPiBDbHVzdGVyIDM8L2Rpdj5gKVswXTsKICAgICAgICAgICAgICAgIHBvcHVwXzVhMWMxM2YzOTk5MTQwM2NhY2I2ZWUzZDY4YzU5YmEzLnNldENvbnRlbnQoaHRtbF9kZDFjYWYzMzlhZDI0ZTAzOWViODUxMWEwZGVhMjk5MSk7CiAgICAgICAgICAgIAoKICAgICAgICAgICAgY2lyY2xlX21hcmtlcl9iNzljYWVlMzAxYjI0OWM2OThlNzZiMDQyODMwOTA1OS5iaW5kUG9wdXAocG9wdXBfNWExYzEzZjM5OTkxNDAzY2FjYjZlZTNkNjhjNTliYTMpCiAgICAgICAgICAgIDsKCiAgICAgICAgICAgIAogICAgICAgIAogICAgCiAgICAgICAgICAgIHZhciBjaXJjbGVfbWFya2VyX2VhMjMwY2EwYzJjNjQ1Y2RhZmJmMzdlYjczYzFiNzE3ID0gTC5jaXJjbGVNYXJrZXIoCiAgICAgICAgICAgICAgICBbNDMuNjUxNTcwNiwgLTc5LjQ4NDQ0OTldLAogICAgICAgICAgICAgICAgewogICJidWJibGluZ01vdXNlRXZlbnRzIjogdHJ1ZSwKICAiY29sb3IiOiAiIzAwYjVlYiIsCiAgImRhc2hBcnJheSI6IG51bGwsCiAgImRhc2hPZmZzZXQiOiBudWxsLAogICJmaWxsIjogdHJ1ZSwKICAiZmlsbENvbG9yIjogIiMwMGI1ZWIiLAogICJmaWxsT3BhY2l0eSI6IDAuNywKICAiZmlsbFJ1bGUiOiAiZXZlbm9kZCIsCiAgImxpbmVDYXAiOiAicm91bmQiLAogICJsaW5lSm9pbiI6ICJyb3VuZCIsCiAgIm9wYWNpdHkiOiAxLjAsCiAgInJhZGl1cyI6IDUsCiAgInN0cm9rZSI6IHRydWUsCiAgIndlaWdodCI6IDMKfQogICAgICAgICAgICAgICAgKQogICAgICAgICAgICAgICAgLmFkZFRvKG1hcF83MDc1YzBmOGFiMzM0ZTY4YmUzN2FjMjgxNjVkNWRkMik7CiAgICAgICAgICAgIAogICAgCiAgICAgICAgICAgIHZhciBwb3B1cF9lZjAwMzFjMzFjMWM0ZjExYTkxYjcxYTIzODFlMDU3NyA9IEwucG9wdXAoe21heFdpZHRoOiAnMTAwJScKICAgICAgICAgICAgCiAgICAgICAgICAgIH0pOwoKICAgICAgICAgICAgCiAgICAgICAgICAgICAgICB2YXIgaHRtbF9lYmVhMmExYTUwODM0MmNmYTBhYTRkMTM4ODBhYmM1ZSA9ICQoYDxkaXYgaWQ9Imh0bWxfZWJlYTJhMWE1MDgzNDJjZmEwYWE0ZDEzODgwYWJjNWUiIHN0eWxlPSJ3aWR0aDogMTAwLjAlOyBoZWlnaHQ6IDEwMC4wJTsiPiBDbHVzdGVyIDI8L2Rpdj5gKVswXTsKICAgICAgICAgICAgICAgIHBvcHVwX2VmMDAzMWMzMWMxYzRmMTFhOTFiNzFhMjM4MWUwNTc3LnNldENvbnRlbnQoaHRtbF9lYmVhMmExYTUwODM0MmNmYTBhYTRkMTM4ODBhYmM1ZSk7CiAgICAgICAgICAgIAoKICAgICAgICAgICAgY2lyY2xlX21hcmtlcl9lYTIzMGNhMGMyYzY0NWNkYWZiZjM3ZWI3M2MxYjcxNy5iaW5kUG9wdXAocG9wdXBfZWYwMDMxYzMxYzFjNGYxMWE5MWI3MWEyMzgxZTA1NzcpCiAgICAgICAgICAgIDsKCiAgICAgICAgICAgIAogICAgICAgIAogICAgCiAgICAgICAgICAgIHZhciBjaXJjbGVfbWFya2VyXzIyMTA3M2JhZWNjMTQyM2I5ZDQ3Mjg2NTNiYzE0ZWM0ID0gTC5jaXJjbGVNYXJrZXIoCiAgICAgICAgICAgICAgICBbNDMuNjg5NTc0MywgLTc5LjM4MzE1OTkwMDAwMDAxXSwKICAgICAgICAgICAgICAgIHsKICAiYnViYmxpbmdNb3VzZUV2ZW50cyI6IHRydWUsCiAgImNvbG9yIjogIiNmZmIzNjAiLAogICJkYXNoQXJyYXkiOiBudWxsLAogICJkYXNoT2Zmc2V0IjogbnVsbCwKICAiZmlsbCI6IHRydWUsCiAgImZpbGxDb2xvciI6ICIjZmZiMzYwIiwKICAiZmlsbE9wYWNpdHkiOiAwLjcsCiAgImZpbGxSdWxlIjogImV2ZW5vZGQiLAogICJsaW5lQ2FwIjogInJvdW5kIiwKICAibGluZUpvaW4iOiAicm91bmQiLAogICJvcGFjaXR5IjogMS4wLAogICJyYWRpdXMiOiA1LAogICJzdHJva2UiOiB0cnVlLAogICJ3ZWlnaHQiOiAzCn0KICAgICAgICAgICAgICAgICkKICAgICAgICAgICAgICAgIC5hZGRUbyhtYXBfNzA3NWMwZjhhYjMzNGU2OGJlMzdhYzI4MTY1ZDVkZDIpOwogICAgICAgICAgICAKICAgIAogICAgICAgICAgICB2YXIgcG9wdXBfYzk3NTBiMWVmZjYwNDcwZDlkYmMzNzk4OTc4ZTMyOTkgPSBMLnBvcHVwKHttYXhXaWR0aDogJzEwMCUnCiAgICAgICAgICAgIAogICAgICAgICAgICB9KTsKCiAgICAgICAgICAgIAogICAgICAgICAgICAgICAgdmFyIGh0bWxfYTM2NmJhMDc5YWJkNDA3NWI4MDI0NzZhZmY4OGFhNjIgPSAkKGA8ZGl2IGlkPSJodG1sX2EzNjZiYTA3OWFiZDQwNzViODAyNDc2YWZmODhhYTYyIiBzdHlsZT0id2lkdGg6IDEwMC4wJTsgaGVpZ2h0OiAxMDAuMCU7Ij4gQ2x1c3RlciA0PC9kaXY+YClbMF07CiAgICAgICAgICAgICAgICBwb3B1cF9jOTc1MGIxZWZmNjA0NzBkOWRiYzM3OTg5NzhlMzI5OS5zZXRDb250ZW50KGh0bWxfYTM2NmJhMDc5YWJkNDA3NWI4MDI0NzZhZmY4OGFhNjIpOwogICAgICAgICAgICAKCiAgICAgICAgICAgIGNpcmNsZV9tYXJrZXJfMjIxMDczYmFlY2MxNDIzYjlkNDcyODY1M2JjMTRlYzQuYmluZFBvcHVwKHBvcHVwX2M5NzUwYjFlZmY2MDQ3MGQ5ZGJjMzc5ODk3OGUzMjk5KQogICAgICAgICAgICA7CgogICAgICAgICAgICAKICAgICAgICAKICAgIAogICAgICAgICAgICB2YXIgY2lyY2xlX21hcmtlcl9hYjc2MThjMGZkMGY0YzI2Yjg1YjE2OTFkNTYxYTljZSA9IEwuY2lyY2xlTWFya2VyKAogICAgICAgICAgICAgICAgWzQzLjY1MzIwNTcsIC03OS40MDAwNDkzXSwKICAgICAgICAgICAgICAgIHsKICAiYnViYmxpbmdNb3VzZUV2ZW50cyI6IHRydWUsCiAgImNvbG9yIjogIiM4MGZmYjQiLAogICJkYXNoQXJyYXkiOiBudWxsLAogICJkYXNoT2Zmc2V0IjogbnVsbCwKICAiZmlsbCI6IHRydWUsCiAgImZpbGxDb2xvciI6ICIjODBmZmI0IiwKICAiZmlsbE9wYWNpdHkiOiAwLjcsCiAgImZpbGxSdWxlIjogImV2ZW5vZGQiLAogICJsaW5lQ2FwIjogInJvdW5kIiwKICAibGluZUpvaW4iOiAicm91bmQiLAogICJvcGFjaXR5IjogMS4wLAogICJyYWRpdXMiOiA1LAogICJzdHJva2UiOiB0cnVlLAogICJ3ZWlnaHQiOiAzCn0KICAgICAgICAgICAgICAgICkKICAgICAgICAgICAgICAgIC5hZGRUbyhtYXBfNzA3NWMwZjhhYjMzNGU2OGJlMzdhYzI4MTY1ZDVkZDIpOwogICAgICAgICAgICAKICAgIAogICAgICAgICAgICB2YXIgcG9wdXBfMzQ5MTc0NzUxYWU1NDU1N2I4YjFhMDMyYTdhOTIwMDEgPSBMLnBvcHVwKHttYXhXaWR0aDogJzEwMCUnCiAgICAgICAgICAgIAogICAgICAgICAgICB9KTsKCiAgICAgICAgICAgIAogICAgICAgICAgICAgICAgdmFyIGh0bWxfZTMxNTIwYjg3YmQwNGMyNjlkMGM5YmVhNjdhODUxZmIgPSAkKGA8ZGl2IGlkPSJodG1sX2UzMTUyMGI4N2JkMDRjMjY5ZDBjOWJlYTY3YTg1MWZiIiBzdHlsZT0id2lkdGg6IDEwMC4wJTsgaGVpZ2h0OiAxMDAuMCU7Ij4gQ2x1c3RlciAzPC9kaXY+YClbMF07CiAgICAgICAgICAgICAgICBwb3B1cF8zNDkxNzQ3NTFhZTU0NTU3YjhiMWEwMzJhN2E5MjAwMS5zZXRDb250ZW50KGh0bWxfZTMxNTIwYjg3YmQwNGMyNjlkMGM5YmVhNjdhODUxZmIpOwogICAgICAgICAgICAKCiAgICAgICAgICAgIGNpcmNsZV9tYXJrZXJfYWI3NjE4YzBmZDBmNGMyNmI4NWIxNjkxZDU2MWE5Y2UuYmluZFBvcHVwKHBvcHVwXzM0OTE3NDc1MWFlNTQ1NTdiOGIxYTAzMmE3YTkyMDAxKQogICAgICAgICAgICA7CgogICAgICAgICAgICAKICAgICAgICAKICAgIAogICAgICAgICAgICB2YXIgY2lyY2xlX21hcmtlcl9lZGI5NTlmMDczNDM0ZTI1YTEzN2YyNDEzZTU4NmZjMCA9IEwuY2lyY2xlTWFya2VyKAogICAgICAgICAgICAgICAgWzQzLjY4NjQxMjI5OTk5OTk5LCAtNzkuNDAwMDQ5M10sCiAgICAgICAgICAgICAgICB7CiAgImJ1YmJsaW5nTW91c2VFdmVudHMiOiB0cnVlLAogICJjb2xvciI6ICIjZmZiMzYwIiwKICAiZGFzaEFycmF5IjogbnVsbCwKICAiZGFzaE9mZnNldCI6IG51bGwsCiAgImZpbGwiOiB0cnVlLAogICJmaWxsQ29sb3IiOiAiI2ZmYjM2MCIsCiAgImZpbGxPcGFjaXR5IjogMC43LAogICJmaWxsUnVsZSI6ICJldmVub2RkIiwKICAibGluZUNhcCI6ICJyb3VuZCIsCiAgImxpbmVKb2luIjogInJvdW5kIiwKICAib3BhY2l0eSI6IDEuMCwKICAicmFkaXVzIjogNSwKICAic3Ryb2tlIjogdHJ1ZSwKICAid2VpZ2h0IjogMwp9CiAgICAgICAgICAgICAgICApCiAgICAgICAgICAgICAgICAuYWRkVG8obWFwXzcwNzVjMGY4YWIzMzRlNjhiZTM3YWMyODE2NWQ1ZGQyKTsKICAgICAgICAgICAgCiAgICAKICAgICAgICAgICAgdmFyIHBvcHVwXzI4ZWFhOTIzMzljMTQwNDg4MWI1MjA0Mjc0NDIyZGEwID0gTC5wb3B1cCh7bWF4V2lkdGg6ICcxMDAlJwogICAgICAgICAgICAKICAgICAgICAgICAgfSk7CgogICAgICAgICAgICAKICAgICAgICAgICAgICAgIHZhciBodG1sX2MwMTBmYjZmYWNiYjQwYTE4NzAzZjY2MDI0YzllMjQ1ID0gJChgPGRpdiBpZD0iaHRtbF9jMDEwZmI2ZmFjYmI0MGExODcwM2Y2NjAyNGM5ZTI0NSIgc3R5bGU9IndpZHRoOiAxMDAuMCU7IGhlaWdodDogMTAwLjAlOyI+IENsdXN0ZXIgNDwvZGl2PmApWzBdOwogICAgICAgICAgICAgICAgcG9wdXBfMjhlYWE5MjMzOWMxNDA0ODgxYjUyMDQyNzQ0MjJkYTAuc2V0Q29udGVudChodG1sX2MwMTBmYjZmYWNiYjQwYTE4NzAzZjY2MDI0YzllMjQ1KTsKICAgICAgICAgICAgCgogICAgICAgICAgICBjaXJjbGVfbWFya2VyX2VkYjk1OWYwNzM0MzRlMjVhMTM3ZjI0MTNlNTg2ZmMwLmJpbmRQb3B1cChwb3B1cF8yOGVhYTkyMzM5YzE0MDQ4ODFiNTIwNDI3NDQyMmRhMCkKICAgICAgICAgICAgOwoKICAgICAgICAgICAgCiAgICAgICAgCiAgICAKICAgICAgICAgICAgdmFyIGNpcmNsZV9tYXJrZXJfN2I1NTY5YjBhN2JiNGJjYTg1MzFhMTdiNTVjMTgxNTggPSBMLmNpcmNsZU1hcmtlcigKICAgICAgICAgICAgICAgIFs0My42Mjg5NDY3LCAtNzkuMzk0NDE5OV0sCiAgICAgICAgICAgICAgICB7CiAgImJ1YmJsaW5nTW91c2VFdmVudHMiOiB0cnVlLAogICJjb2xvciI6ICIjZmYwMDAwIiwKICAiZGFzaEFycmF5IjogbnVsbCwKICAiZGFzaE9mZnNldCI6IG51bGwsCiAgImZpbGwiOiB0cnVlLAogICJmaWxsQ29sb3IiOiAiI2ZmMDAwMCIsCiAgImZpbGxPcGFjaXR5IjogMC43LAogICJmaWxsUnVsZSI6ICJldmVub2RkIiwKICAibGluZUNhcCI6ICJyb3VuZCIsCiAgImxpbmVKb2luIjogInJvdW5kIiwKICAib3BhY2l0eSI6IDEuMCwKICAicmFkaXVzIjogNSwKICAic3Ryb2tlIjogdHJ1ZSwKICAid2VpZ2h0IjogMwp9CiAgICAgICAgICAgICAgICApCiAgICAgICAgICAgICAgICAuYWRkVG8obWFwXzcwNzVjMGY4YWIzMzRlNjhiZTM3YWMyODE2NWQ1ZGQyKTsKICAgICAgICAgICAgCiAgICAKICAgICAgICAgICAgdmFyIHBvcHVwX2E4Y2Y1YzM1NTQyMjRmZGRhMTU4ZWFkNjgzZmI5YzMxID0gTC5wb3B1cCh7bWF4V2lkdGg6ICcxMDAlJwogICAgICAgICAgICAKICAgICAgICAgICAgfSk7CgogICAgICAgICAgICAKICAgICAgICAgICAgICAgIHZhciBodG1sXzRiNDU4ODI3MWJlMzQ4NWM5MjE4ZDA2ZTk1ZTQ5YjNmID0gJChgPGRpdiBpZD0iaHRtbF80YjQ1ODgyNzFiZTM0ODVjOTIxOGQwNmU5NWU0OWIzZiIgc3R5bGU9IndpZHRoOiAxMDAuMCU7IGhlaWdodDogMTAwLjAlOyI+IENsdXN0ZXIgMDwvZGl2PmApWzBdOwogICAgICAgICAgICAgICAgcG9wdXBfYThjZjVjMzU1NDIyNGZkZGExNThlYWQ2ODNmYjljMzEuc2V0Q29udGVudChodG1sXzRiNDU4ODI3MWJlMzQ4NWM5MjE4ZDA2ZTk1ZTQ5YjNmKTsKICAgICAgICAgICAgCgogICAgICAgICAgICBjaXJjbGVfbWFya2VyXzdiNTU2OWIwYTdiYjRiY2E4NTMxYTE3YjU1YzE4MTU4LmJpbmRQb3B1cChwb3B1cF9hOGNmNWMzNTU0MjI0ZmRkYTE1OGVhZDY4M2ZiOWMzMSkKICAgICAgICAgICAgOwoKICAgICAgICAgICAgCiAgICAgICAgCiAgICAKICAgICAgICAgICAgdmFyIGNpcmNsZV9tYXJrZXJfYzdlNzZiNGYyODM1NDhlOGFmMjRhYTg2M2FiM2M5OTggPSBMLmNpcmNsZU1hcmtlcigKICAgICAgICAgICAgICAgIFs0My42Nzk1NjI2LCAtNzkuMzc3NTI5NDAwMDAwMDFdLAogICAgICAgICAgICAgICAgewogICJidWJibGluZ01vdXNlRXZlbnRzIjogdHJ1ZSwKICAiY29sb3IiOiAiI2ZmMDAwMCIsCiAgImRhc2hBcnJheSI6IG51bGwsCiAgImRhc2hPZmZzZXQiOiBudWxsLAogICJmaWxsIjogdHJ1ZSwKICAiZmlsbENvbG9yIjogIiNmZjAwMDAiLAogICJmaWxsT3BhY2l0eSI6IDAuNywKICAiZmlsbFJ1bGUiOiAiZXZlbm9kZCIsCiAgImxpbmVDYXAiOiAicm91bmQiLAogICJsaW5lSm9pbiI6ICJyb3VuZCIsCiAgIm9wYWNpdHkiOiAxLjAsCiAgInJhZGl1cyI6IDUsCiAgInN0cm9rZSI6IHRydWUsCiAgIndlaWdodCI6IDMKfQogICAgICAgICAgICAgICAgKQogICAgICAgICAgICAgICAgLmFkZFRvKG1hcF83MDc1YzBmOGFiMzM0ZTY4YmUzN2FjMjgxNjVkNWRkMik7CiAgICAgICAgICAgIAogICAgCiAgICAgICAgICAgIHZhciBwb3B1cF81N2Y4ZjcxMTY3ODE0NGMzYWMxMGNkMmJiNjYwM2M3NSA9IEwucG9wdXAoe21heFdpZHRoOiAnMTAwJScKICAgICAgICAgICAgCiAgICAgICAgICAgIH0pOwoKICAgICAgICAgICAgCiAgICAgICAgICAgICAgICB2YXIgaHRtbF8wNDJkMTdhZjM0Zjc0NmQ3YTRkYThlMWUxZTFiMmM0YyA9ICQoYDxkaXYgaWQ9Imh0bWxfMDQyZDE3YWYzNGY3NDZkN2E0ZGE4ZTFlMWUxYjJjNGMiIHN0eWxlPSJ3aWR0aDogMTAwLjAlOyBoZWlnaHQ6IDEwMC4wJTsiPiBDbHVzdGVyIDA8L2Rpdj5gKVswXTsKICAgICAgICAgICAgICAgIHBvcHVwXzU3ZjhmNzExNjc4MTQ0YzNhYzEwY2QyYmI2NjAzYzc1LnNldENvbnRlbnQoaHRtbF8wNDJkMTdhZjM0Zjc0NmQ3YTRkYThlMWUxZTFiMmM0Yyk7CiAgICAgICAgICAgIAoKICAgICAgICAgICAgY2lyY2xlX21hcmtlcl9jN2U3NmI0ZjI4MzU0OGU4YWYyNGFhODYzYWIzYzk5OC5iaW5kUG9wdXAocG9wdXBfNTdmOGY3MTE2NzgxNDRjM2FjMTBjZDJiYjY2MDNjNzUpCiAgICAgICAgICAgIDsKCiAgICAgICAgICAgIAogICAgICAgIAogICAgCiAgICAgICAgICAgIHZhciBjaXJjbGVfbWFya2VyXzdlYmQ1Y2Q0NjQ2YjQ2OGM4ODhiMjlhZmNiNTM2MGI4ID0gTC5jaXJjbGVNYXJrZXIoCiAgICAgICAgICAgICAgICBbNDMuNjQ2NDM1MiwgLTc5LjM3NDg0NTk5OTk5OTk5XSwKICAgICAgICAgICAgICAgIHsKICAiYnViYmxpbmdNb3VzZUV2ZW50cyI6IHRydWUsCiAgImNvbG9yIjogIiNmZjAwMDAiLAogICJkYXNoQXJyYXkiOiBudWxsLAogICJkYXNoT2Zmc2V0IjogbnVsbCwKICAiZmlsbCI6IHRydWUsCiAgImZpbGxDb2xvciI6ICIjZmYwMDAwIiwKICAiZmlsbE9wYWNpdHkiOiAwLjcsCiAgImZpbGxSdWxlIjogImV2ZW5vZGQiLAogICJsaW5lQ2FwIjogInJvdW5kIiwKICAibGluZUpvaW4iOiAicm91bmQiLAogICJvcGFjaXR5IjogMS4wLAogICJyYWRpdXMiOiA1LAogICJzdHJva2UiOiB0cnVlLAogICJ3ZWlnaHQiOiAzCn0KICAgICAgICAgICAgICAgICkKICAgICAgICAgICAgICAgIC5hZGRUbyhtYXBfNzA3NWMwZjhhYjMzNGU2OGJlMzdhYzI4MTY1ZDVkZDIpOwogICAgICAgICAgICAKICAgIAogICAgICAgICAgICB2YXIgcG9wdXBfMDA4N2E2MmI2Yzg3NGZkMmI1ZTNmODhlYzU0M2I3M2UgPSBMLnBvcHVwKHttYXhXaWR0aDogJzEwMCUnCiAgICAgICAgICAgIAogICAgICAgICAgICB9KTsKCiAgICAgICAgICAgIAogICAgICAgICAgICAgICAgdmFyIGh0bWxfYWI2OGM4Y2VjNWMyNGExMWIxZmE4MWNiNzIxYzgzODUgPSAkKGA8ZGl2IGlkPSJodG1sX2FiNjhjOGNlYzVjMjRhMTFiMWZhODFjYjcyMWM4Mzg1IiBzdHlsZT0id2lkdGg6IDEwMC4wJTsgaGVpZ2h0OiAxMDAuMCU7Ij4gQ2x1c3RlciAwPC9kaXY+YClbMF07CiAgICAgICAgICAgICAgICBwb3B1cF8wMDg3YTYyYjZjODc0ZmQyYjVlM2Y4OGVjNTQzYjczZS5zZXRDb250ZW50KGh0bWxfYWI2OGM4Y2VjNWMyNGExMWIxZmE4MWNiNzIxYzgzODUpOwogICAgICAgICAgICAKCiAgICAgICAgICAgIGNpcmNsZV9tYXJrZXJfN2ViZDVjZDQ2NDZiNDY4Yzg4OGIyOWFmY2I1MzYwYjguYmluZFBvcHVwKHBvcHVwXzAwODdhNjJiNmM4NzRmZDJiNWUzZjg4ZWM1NDNiNzNlKQogICAgICAgICAgICA7CgogICAgICAgICAgICAKICAgICAgICAKICAgIAogICAgICAgICAgICB2YXIgY2lyY2xlX21hcmtlcl85MTU1NmJhOGQ4MzQ0YzMzODZlOTJiZTVhZGYyNzM1YyA9IEwuY2lyY2xlTWFya2VyKAogICAgICAgICAgICAgICAgWzQzLjY2Nzk2NywgLTc5LjM2NzY3NTNdLAogICAgICAgICAgICAgICAgewogICJidWJibGluZ01vdXNlRXZlbnRzIjogdHJ1ZSwKICAiY29sb3IiOiAiI2ZmMDAwMCIsCiAgImRhc2hBcnJheSI6IG51bGwsCiAgImRhc2hPZmZzZXQiOiBudWxsLAogICJmaWxsIjogdHJ1ZSwKICAiZmlsbENvbG9yIjogIiNmZjAwMDAiLAogICJmaWxsT3BhY2l0eSI6IDAuNywKICAiZmlsbFJ1bGUiOiAiZXZlbm9kZCIsCiAgImxpbmVDYXAiOiAicm91bmQiLAogICJsaW5lSm9pbiI6ICJyb3VuZCIsCiAgIm9wYWNpdHkiOiAxLjAsCiAgInJhZGl1cyI6IDUsCiAgInN0cm9rZSI6IHRydWUsCiAgIndlaWdodCI6IDMKfQogICAgICAgICAgICAgICAgKQogICAgICAgICAgICAgICAgLmFkZFRvKG1hcF83MDc1YzBmOGFiMzM0ZTY4YmUzN2FjMjgxNjVkNWRkMik7CiAgICAgICAgICAgIAogICAgCiAgICAgICAgICAgIHZhciBwb3B1cF8yYTJmODYwMDg5YzA0YjI4ODY3YzRiN2ExNTM0NTliNCA9IEwucG9wdXAoe21heFdpZHRoOiAnMTAwJScKICAgICAgICAgICAgCiAgICAgICAgICAgIH0pOwoKICAgICAgICAgICAgCiAgICAgICAgICAgICAgICB2YXIgaHRtbF9jNmM1MTM5ZDg1NmU0ZGUzOThiMjYxYjZkYTBjZTdjZiA9ICQoYDxkaXYgaWQ9Imh0bWxfYzZjNTEzOWQ4NTZlNGRlMzk4YjI2MWI2ZGEwY2U3Y2YiIHN0eWxlPSJ3aWR0aDogMTAwLjAlOyBoZWlnaHQ6IDEwMC4wJTsiPiBDbHVzdGVyIDA8L2Rpdj5gKVswXTsKICAgICAgICAgICAgICAgIHBvcHVwXzJhMmY4NjAwODljMDRiMjg4NjdjNGI3YTE1MzQ1OWI0LnNldENvbnRlbnQoaHRtbF9jNmM1MTM5ZDg1NmU0ZGUzOThiMjYxYjZkYTBjZTdjZik7CiAgICAgICAgICAgIAoKICAgICAgICAgICAgY2lyY2xlX21hcmtlcl85MTU1NmJhOGQ4MzQ0YzMzODZlOTJiZTVhZGYyNzM1Yy5iaW5kUG9wdXAocG9wdXBfMmEyZjg2MDA4OWMwNGIyODg2N2M0YjdhMTUzNDU5YjQpCiAgICAgICAgICAgIDsKCiAgICAgICAgICAgIAogICAgICAgIAogICAgCiAgICAgICAgICAgIHZhciBjaXJjbGVfbWFya2VyXzIwODhjMmY1ZjFiMTQyMmI5YzllYTdjN2FhMTBkNzU4ID0gTC5jaXJjbGVNYXJrZXIoCiAgICAgICAgICAgICAgICBbNDMuNjQ4NDI5MiwgLTc5LjM4MjI4MDJdLAogICAgICAgICAgICAgICAgewogICJidWJibGluZ01vdXNlRXZlbnRzIjogdHJ1ZSwKICAiY29sb3IiOiAiI2ZmMDAwMCIsCiAgImRhc2hBcnJheSI6IG51bGwsCiAgImRhc2hPZmZzZXQiOiBudWxsLAogICJmaWxsIjogdHJ1ZSwKICAiZmlsbENvbG9yIjogIiNmZjAwMDAiLAogICJmaWxsT3BhY2l0eSI6IDAuNywKICAiZmlsbFJ1bGUiOiAiZXZlbm9kZCIsCiAgImxpbmVDYXAiOiAicm91bmQiLAogICJsaW5lSm9pbiI6ICJyb3VuZCIsCiAgIm9wYWNpdHkiOiAxLjAsCiAgInJhZGl1cyI6IDUsCiAgInN0cm9rZSI6IHRydWUsCiAgIndlaWdodCI6IDMKfQogICAgICAgICAgICAgICAgKQogICAgICAgICAgICAgICAgLmFkZFRvKG1hcF83MDc1YzBmOGFiMzM0ZTY4YmUzN2FjMjgxNjVkNWRkMik7CiAgICAgICAgICAgIAogICAgCiAgICAgICAgICAgIHZhciBwb3B1cF80MWRiNTgwZDMwZDE0NmFjOGRhNWVkYjY1ZmVkNzc2YSA9IEwucG9wdXAoe21heFdpZHRoOiAnMTAwJScKICAgICAgICAgICAgCiAgICAgICAgICAgIH0pOwoKICAgICAgICAgICAgCiAgICAgICAgICAgICAgICB2YXIgaHRtbF82ZTg4ZGY4ZjI1OTI0MzQ1OGZiMDUyYzFjYTRlYjg3NCA9ICQoYDxkaXYgaWQ9Imh0bWxfNmU4OGRmOGYyNTkyNDM0NThmYjA1MmMxY2E0ZWI4NzQiIHN0eWxlPSJ3aWR0aDogMTAwLjAlOyBoZWlnaHQ6IDEwMC4wJTsiPiBDbHVzdGVyIDA8L2Rpdj5gKVswXTsKICAgICAgICAgICAgICAgIHBvcHVwXzQxZGI1ODBkMzBkMTQ2YWM4ZGE1ZWRiNjVmZWQ3NzZhLnNldENvbnRlbnQoaHRtbF82ZTg4ZGY4ZjI1OTI0MzQ1OGZiMDUyYzFjYTRlYjg3NCk7CiAgICAgICAgICAgIAoKICAgICAgICAgICAgY2lyY2xlX21hcmtlcl8yMDg4YzJmNWYxYjE0MjJiOWM5ZWE3YzdhYTEwZDc1OC5iaW5kUG9wdXAocG9wdXBfNDFkYjU4MGQzMGQxNDZhYzhkYTVlZGI2NWZlZDc3NmEpCiAgICAgICAgICAgIDsKCiAgICAgICAgICAgIAogICAgICAgIAogICAgCiAgICAgICAgICAgIHZhciBjaXJjbGVfbWFya2VyXzUwZjVjODBhZDlkYTQ4Y2U5MjEwZjZlOGZmZDJlY2MzID0gTC5jaXJjbGVNYXJrZXIoCiAgICAgICAgICAgICAgICBbNDMuNjY1ODU5OSwgLTc5LjM4MzE1OTkwMDAwMDAxXSwKICAgICAgICAgICAgICAgIHsKICAiYnViYmxpbmdNb3VzZUV2ZW50cyI6IHRydWUsCiAgImNvbG9yIjogIiNmZjAwMDAiLAogICJkYXNoQXJyYXkiOiBudWxsLAogICJkYXNoT2Zmc2V0IjogbnVsbCwKICAiZmlsbCI6IHRydWUsCiAgImZpbGxDb2xvciI6ICIjZmYwMDAwIiwKICAiZmlsbE9wYWNpdHkiOiAwLjcsCiAgImZpbGxSdWxlIjogImV2ZW5vZGQiLAogICJsaW5lQ2FwIjogInJvdW5kIiwKICAibGluZUpvaW4iOiAicm91bmQiLAogICJvcGFjaXR5IjogMS4wLAogICJyYWRpdXMiOiA1LAogICJzdHJva2UiOiB0cnVlLAogICJ3ZWlnaHQiOiAzCn0KICAgICAgICAgICAgICAgICkKICAgICAgICAgICAgICAgIC5hZGRUbyhtYXBfNzA3NWMwZjhhYjMzNGU2OGJlMzdhYzI4MTY1ZDVkZDIpOwogICAgICAgICAgICAKICAgIAogICAgICAgICAgICB2YXIgcG9wdXBfZTc5NDlmZGNhZTA3NGY3OGFkODc3ZmFlYmQ5MzhlMWUgPSBMLnBvcHVwKHttYXhXaWR0aDogJzEwMCUnCiAgICAgICAgICAgIAogICAgICAgICAgICB9KTsKCiAgICAgICAgICAgIAogICAgICAgICAgICAgICAgdmFyIGh0bWxfZDM1ODk3NzVkZTEzNDdlYjhhMzQ0ZjYxMjY4MzZiNTUgPSAkKGA8ZGl2IGlkPSJodG1sX2QzNTg5Nzc1ZGUxMzQ3ZWI4YTM0NGY2MTI2ODM2YjU1IiBzdHlsZT0id2lkdGg6IDEwMC4wJTsgaGVpZ2h0OiAxMDAuMCU7Ij4gQ2x1c3RlciAwPC9kaXY+YClbMF07CiAgICAgICAgICAgICAgICBwb3B1cF9lNzk0OWZkY2FlMDc0Zjc4YWQ4NzdmYWViZDkzOGUxZS5zZXRDb250ZW50KGh0bWxfZDM1ODk3NzVkZTEzNDdlYjhhMzQ0ZjYxMjY4MzZiNTUpOwogICAgICAgICAgICAKCiAgICAgICAgICAgIGNpcmNsZV9tYXJrZXJfNTBmNWM4MGFkOWRhNDhjZTkyMTBmNmU4ZmZkMmVjYzMuYmluZFBvcHVwKHBvcHVwX2U3OTQ5ZmRjYWUwNzRmNzhhZDg3N2ZhZWJkOTM4ZTFlKQogICAgICAgICAgICA7CgogICAgICAgICAgICAKICAgICAgICAKICAgIAogICAgICAgICAgICB2YXIgY2lyY2xlX21hcmtlcl8xMjcwNjBhZWZjY2M0ZTM2ODkzOTMyMjJiZWExN2E1YSA9IEwuY2lyY2xlTWFya2VyKAogICAgICAgICAgICAgICAgWzQzLjY2Mjc0MzksIC03OS4zMjE1NThdLAogICAgICAgICAgICAgICAgewogICJidWJibGluZ01vdXNlRXZlbnRzIjogdHJ1ZSwKICAiY29sb3IiOiAiIzgwMDBmZiIsCiAgImRhc2hBcnJheSI6IG51bGwsCiAgImRhc2hPZmZzZXQiOiBudWxsLAogICJmaWxsIjogdHJ1ZSwKICAiZmlsbENvbG9yIjogIiM4MDAwZmYiLAogICJmaWxsT3BhY2l0eSI6IDAuNywKICAiZmlsbFJ1bGUiOiAiZXZlbm9kZCIsCiAgImxpbmVDYXAiOiAicm91bmQiLAogICJsaW5lSm9pbiI6ICJyb3VuZCIsCiAgIm9wYWNpdHkiOiAxLjAsCiAgInJhZGl1cyI6IDUsCiAgInN0cm9rZSI6IHRydWUsCiAgIndlaWdodCI6IDMKfQogICAgICAgICAgICAgICAgKQogICAgICAgICAgICAgICAgLmFkZFRvKG1hcF83MDc1YzBmOGFiMzM0ZTY4YmUzN2FjMjgxNjVkNWRkMik7CiAgICAgICAgICAgIAogICAgCiAgICAgICAgICAgIHZhciBwb3B1cF8wNTAzZjNmN2YwYmU0NmNmYjgwNGU5ZThjNjEwMjQzNiA9IEwucG9wdXAoe21heFdpZHRoOiAnMTAwJScKICAgICAgICAgICAgCiAgICAgICAgICAgIH0pOwoKICAgICAgICAgICAgCiAgICAgICAgICAgICAgICB2YXIgaHRtbF8wY2RjMWMyZTkzNTc0YTc2OTg5YjA0ZTE2NGIwZDhiNyA9ICQoYDxkaXYgaWQ9Imh0bWxfMGNkYzFjMmU5MzU3NGE3Njk4OWIwNGUxNjRiMGQ4YjciIHN0eWxlPSJ3aWR0aDogMTAwLjAlOyBoZWlnaHQ6IDEwMC4wJTsiPiBDbHVzdGVyIDE8L2Rpdj5gKVswXTsKICAgICAgICAgICAgICAgIHBvcHVwXzA1MDNmM2Y3ZjBiZTQ2Y2ZiODA0ZTllOGM2MTAyNDM2LnNldENvbnRlbnQoaHRtbF8wY2RjMWMyZTkzNTc0YTc2OTg5YjA0ZTE2NGIwZDhiNyk7CiAgICAgICAgICAgIAoKICAgICAgICAgICAgY2lyY2xlX21hcmtlcl8xMjcwNjBhZWZjY2M0ZTM2ODkzOTMyMjJiZWExN2E1YS5iaW5kUG9wdXAocG9wdXBfMDUwM2YzZjdmMGJlNDZjZmI4MDRlOWU4YzYxMDI0MzYpCiAgICAgICAgICAgIDsKCiAgICAgICAgICAgIAogICAgICAgIAo8L3NjcmlwdD4= onload=\"this.contentDocument.open();this.contentDocument.write(atob(this.getAttribute('data-html')));this.contentDocument.close();\" allowfullscreen webkitallowfullscreen mozallowfullscreen></iframe></div></div>"
            ],
            "text/plain": [
              "<folium.folium.Map at 0x7f4d3d7730b8>"
            ]
          },
          "metadata": {
            "tags": []
          },
          "execution_count": 26
        }
      ]
    },
    {
      "cell_type": "code",
      "metadata": {
        "id": "ysn9g7RgoiO6",
        "colab_type": "code",
        "colab": {}
      },
      "source": [
        ""
      ],
      "execution_count": 24,
      "outputs": []
    },
    {
      "cell_type": "code",
      "metadata": {
        "id": "20xt3KLpooms",
        "colab_type": "code",
        "colab": {}
      },
      "source": [
        ""
      ],
      "execution_count": null,
      "outputs": []
    }
  ]
}